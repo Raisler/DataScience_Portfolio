{
  "nbformat": 4,
  "nbformat_minor": 0,
  "metadata": {
    "colab": {
      "name": "Métrica_de_Similaridade.ipynb",
      "provenance": [],
      "collapsed_sections": [],
      "toc_visible": true,
      "authorship_tag": "ABX9TyP6+PrvRfzPKpGHO+asSacw",
      "include_colab_link": true
    },
    "kernelspec": {
      "name": "python3",
      "display_name": "Python 3"
    }
  },
  "cells": [
    {
      "cell_type": "markdown",
      "metadata": {
        "id": "view-in-github",
        "colab_type": "text"
      },
      "source": [
        "<a href=\"https://colab.research.google.com/github/Raisler/DataScience_Portfolio/blob/master/M%C3%A9trica_de_Similaridade.ipynb\" target=\"_parent\"><img src=\"https://colab.research.google.com/assets/colab-badge.svg\" alt=\"Open In Colab\"/></a>"
      ]
    },
    {
      "cell_type": "markdown",
      "metadata": {
        "id": "MpgPVOfy-rhv"
      },
      "source": [
        "# Similaridade entre textos \n",
        "\n",
        "O quão semelhante é um texto? é possível utilizando uma métrica simples para comparar possíveis plágios com a obra original? procurar textos parecidos? comparar perfis em redes sociais? procurar grupos de textos que são mais parecidos, neste último talvez um \"k-means\" seja mais eficiente 😅.\n",
        "\n"
      ]
    },
    {
      "cell_type": "code",
      "metadata": {
        "colab": {
          "base_uri": "https://localhost:8080/"
        },
        "id": "oxojYvlhddm9",
        "outputId": "0a125848-8aab-4527-c3d7-acd413b408ee"
      },
      "source": [
        "!easy_install matplotlib-venn"
      ],
      "execution_count": 1,
      "outputs": [
        {
          "output_type": "stream",
          "text": [
            "WARNING: The easy_install command is deprecated and will be removed in a future version.\n",
            "Searching for matplotlib-venn\n",
            "Best match: matplotlib-venn 0.11.5\n",
            "Adding matplotlib-venn 0.11.5 to easy-install.pth file\n",
            "\n",
            "Using /usr/local/lib/python2.7/dist-packages\n",
            "Processing dependencies for matplotlib-venn\n",
            "Finished processing dependencies for matplotlib-venn\n"
          ],
          "name": "stdout"
        }
      ]
    },
    {
      "cell_type": "code",
      "metadata": {
        "id": "96xad4tj-Nft"
      },
      "source": [
        "import sklearn \n",
        "import numpy as np\n",
        "import matplotlib.pyplot as plt\n",
        "from matplotlib_venn import venn2\n",
        "from sklearn.feature_extraction.text import CountVectorizer"
      ],
      "execution_count": 2,
      "outputs": []
    },
    {
      "cell_type": "markdown",
      "metadata": {
        "id": "e9Xr5z48Do11"
      },
      "source": [
        ">word como analyzer é porque ele retira palavras com apenas 1 caractere e deixa tudo minúsculo"
      ]
    },
    {
      "cell_type": "code",
      "metadata": {
        "id": "pTITmfwb-rMj"
      },
      "source": [
        "t1 = \"Homem de Ferro é legal, Thor não\"\n",
        "t2 = \"Thor é legal, Homem de ferro não\"\n",
        "\n",
        "vect = CountVectorizer(analyzer = 'word', ngram_range= (1, 2)) \n",
        "\n",
        "vocab = vect.fit([t1, t2])"
      ],
      "execution_count": 3,
      "outputs": []
    },
    {
      "cell_type": "code",
      "metadata": {
        "colab": {
          "base_uri": "https://localhost:8080/"
        },
        "id": "L0zKZByrBomY",
        "outputId": "6cd0615f-6a75-4c49-fb43-05d92c52bb65"
      },
      "source": [
        "vocab.vocabulary_"
      ],
      "execution_count": 4,
      "outputs": [
        {
          "output_type": "execute_result",
          "data": {
            "text/plain": [
              "{'de': 0,\n",
              " 'de ferro': 1,\n",
              " 'ferro': 2,\n",
              " 'ferro legal': 3,\n",
              " 'ferro não': 4,\n",
              " 'homem': 5,\n",
              " 'homem de': 6,\n",
              " 'legal': 7,\n",
              " 'legal homem': 8,\n",
              " 'legal thor': 9,\n",
              " 'não': 10,\n",
              " 'thor': 11,\n",
              " 'thor legal': 12,\n",
              " 'thor não': 13}"
            ]
          },
          "metadata": {
            "tags": []
          },
          "execution_count": 4
        }
      ]
    },
    {
      "cell_type": "markdown",
      "metadata": {
        "id": "AQiQHxoCD8ns"
      },
      "source": [
        "> O que criamos antes foi apenas para visualizar e aprender, agora criaremos os arrays de fato"
      ]
    },
    {
      "cell_type": "code",
      "metadata": {
        "id": "QnrLh5qrC9fZ"
      },
      "source": [
        "test = vect.fit_transform([t1, t2])"
      ],
      "execution_count": 5,
      "outputs": []
    },
    {
      "cell_type": "code",
      "metadata": {
        "id": "QCM2U3DQEk4g"
      },
      "source": [
        "test = test.toarray()"
      ],
      "execution_count": 6,
      "outputs": []
    },
    {
      "cell_type": "code",
      "metadata": {
        "colab": {
          "base_uri": "https://localhost:8080/"
        },
        "id": "pBOKt8y4FA28",
        "outputId": "1d484c9c-902c-48ba-f74b-3d67ff075b75"
      },
      "source": [
        "print(test)\n",
        "vocab.vocabulary_ \n"
      ],
      "execution_count": 7,
      "outputs": [
        {
          "output_type": "stream",
          "text": [
            "[[1 1 1 1 0 1 1 1 0 1 1 1 0 1]\n",
            " [1 1 1 0 1 1 1 1 1 0 1 1 1 0]]\n"
          ],
          "name": "stdout"
        },
        {
          "output_type": "execute_result",
          "data": {
            "text/plain": [
              "{'de': 0,\n",
              " 'de ferro': 1,\n",
              " 'ferro': 2,\n",
              " 'ferro legal': 3,\n",
              " 'ferro não': 4,\n",
              " 'homem': 5,\n",
              " 'homem de': 6,\n",
              " 'legal': 7,\n",
              " 'legal homem': 8,\n",
              " 'legal thor': 9,\n",
              " 'não': 10,\n",
              " 'thor': 11,\n",
              " 'thor legal': 12,\n",
              " 'thor não': 13}"
            ]
          },
          "metadata": {
            "tags": []
          },
          "execution_count": 7
        }
      ]
    },
    {
      "cell_type": "code",
      "metadata": {
        "colab": {
          "base_uri": "https://localhost:8080/"
        },
        "id": "cFEVzq1sJ2CS",
        "outputId": "29fcd9f9-82ea-44a9-d842-b79c172d284f"
      },
      "source": [
        "intersection_list = np.amin(test, axis = 0) # Intersecção\n",
        "intersection_list"
      ],
      "execution_count": 8,
      "outputs": [
        {
          "output_type": "execute_result",
          "data": {
            "text/plain": [
              "array([1, 1, 1, 0, 0, 1, 1, 1, 0, 0, 1, 1, 0, 0])"
            ]
          },
          "metadata": {
            "tags": []
          },
          "execution_count": 8
        }
      ]
    },
    {
      "cell_type": "code",
      "metadata": {
        "colab": {
          "base_uri": "https://localhost:8080/"
        },
        "id": "7g9fPGklLeCk",
        "outputId": "74066aec-55ff-4c3f-b849-a1a753b4aee6"
      },
      "source": [
        "sum = np.sum(intersection_list)  \n",
        "sum"
      ],
      "execution_count": 9,
      "outputs": [
        {
          "output_type": "execute_result",
          "data": {
            "text/plain": [
              "8"
            ]
          },
          "metadata": {
            "tags": []
          },
          "execution_count": 9
        }
      ]
    },
    {
      "cell_type": "code",
      "metadata": {
        "colab": {
          "base_uri": "https://localhost:8080/"
        },
        "id": "Xju8Ok2lMNF7",
        "outputId": "45e4b4a4-aa3f-4962-98ad-c6cd2028bb2a"
      },
      "source": [
        "count = np.sum(test[0]) # Texto base para comparação\n",
        "count"
      ],
      "execution_count": 10,
      "outputs": [
        {
          "output_type": "execute_result",
          "data": {
            "text/plain": [
              "11"
            ]
          },
          "metadata": {
            "tags": []
          },
          "execution_count": 10
        }
      ]
    },
    {
      "cell_type": "code",
      "metadata": {
        "colab": {
          "base_uri": "https://localhost:8080/"
        },
        "id": "vUGSZNxSNRxq",
        "outputId": "03c30f35-a5d8-46d8-9b21-5dda729d3f59"
      },
      "source": [
        "sum/count"
      ],
      "execution_count": 11,
      "outputs": [
        {
          "output_type": "execute_result",
          "data": {
            "text/plain": [
              "0.7272727272727273"
            ]
          },
          "metadata": {
            "tags": []
          },
          "execution_count": 11
        }
      ]
    },
    {
      "cell_type": "markdown",
      "metadata": {
        "id": "YXrZ9n5SfdC4"
      },
      "source": [
        "# DIAGRAMA DE VENN\n",
        "\n"
      ]
    },
    {
      "cell_type": "code",
      "metadata": {
        "id": "oQhHI6SBfl9S"
      },
      "source": [
        "x1 = \"Homem de ferro é legal, Thor não\"\n",
        "x2 = \"Thor é legal, Homem de ferro não\"\n",
        "\n",
        "vect1 = CountVectorizer(analyzer = 'word', ngram_range= (1, 2)) \n",
        "vect2 = CountVectorizer(analyzer = 'word', ngram_range = (1, 2))\n",
        "\n",
        "x1 = vect1.fit([x1])\n",
        "x2 = vect2.fit([x2])"
      ],
      "execution_count": 12,
      "outputs": []
    },
    {
      "cell_type": "code",
      "metadata": {
        "colab": {
          "base_uri": "https://localhost:8080/"
        },
        "id": "LtbIlz3Zfu6t",
        "outputId": "27f1f401-839e-4d3e-ce65-d67361c8f1c1"
      },
      "source": [
        "print(x1.vocabulary_)\n",
        "print('------')\n",
        "print(x2.vocabulary_)"
      ],
      "execution_count": 13,
      "outputs": [
        {
          "output_type": "stream",
          "text": [
            "{'homem': 4, 'de': 0, 'ferro': 2, 'legal': 6, 'thor': 9, 'não': 8, 'homem de': 5, 'de ferro': 1, 'ferro legal': 3, 'legal thor': 7, 'thor não': 10}\n",
            "------\n",
            "{'thor': 9, 'legal': 6, 'homem': 4, 'de': 0, 'ferro': 2, 'não': 8, 'thor legal': 10, 'legal homem': 7, 'homem de': 5, 'de ferro': 1, 'ferro não': 3}\n"
          ],
          "name": "stdout"
        }
      ]
    },
    {
      "cell_type": "code",
      "metadata": {
        "colab": {
          "base_uri": "https://localhost:8080/"
        },
        "id": "mVa4GswRfwOf",
        "outputId": "81c18adb-f4f6-435f-a7ff-09e73fc50faf"
      },
      "source": [
        "to_set1 = set(x1.vocabulary_)\n",
        "to_set2 = set(x2.vocabulary_)\n",
        "\n",
        "intersection = to_set1.intersection(to_set2)\n",
        "intersection"
      ],
      "execution_count": 14,
      "outputs": [
        {
          "output_type": "execute_result",
          "data": {
            "text/plain": [
              "{'de', 'de ferro', 'ferro', 'homem', 'homem de', 'legal', 'não', 'thor'}"
            ]
          },
          "metadata": {
            "tags": []
          },
          "execution_count": 14
        }
      ]
    },
    {
      "cell_type": "code",
      "metadata": {
        "colab": {
          "base_uri": "https://localhost:8080/",
          "height": 268
        },
        "id": "dFvgHekSgLsm",
        "outputId": "4a05677c-2e2f-4b9a-9703-ba04de2a5bac"
      },
      "source": [
        "venn2([to_set1, to_set2], set_labels = ('texto 1', 'texto 2'))"
      ],
      "execution_count": 15,
      "outputs": [
        {
          "output_type": "execute_result",
          "data": {
            "text/plain": [
              "<matplotlib_venn._common.VennDiagram at 0x7fee0c5e2ef0>"
            ]
          },
          "metadata": {
            "tags": []
          },
          "execution_count": 15
        },
        {
          "output_type": "display_data",
          "data": {
            "image/png": "[encoded data removed]",
            "text/plain": [
              "<Figure size 432x288 with 1 Axes>"
            ]
          },
          "metadata": {
            "tags": []
          }
        }
      ]
    },
    {
      "cell_type": "markdown",
      "metadata": {
        "id": "Czks-JFFlTdi"
      },
      "source": [
        "# Função que mede a similaridade"
      ]
    },
    {
      "cell_type": "code",
      "metadata": {
        "id": "sd5HaP7aqSLF"
      },
      "source": [
        "def medidor_de_similaridade(text1, text2):\n",
        "  to_vect = CountVectorizer(analyzer = 'word', ngram_range = (1, 2))\n",
        "  result = []\n",
        "  for comentario1 in text1:\n",
        "    for comentario2 in text2:\n",
        "      x1, x2 = to_vect.fit_transform([comentario1,comentario2])\n",
        "      t1, t2 = x1.toarray(), x2.toarray()\n",
        "\n",
        "      min = np.amin([t1, t2], axis = 0)\n",
        "      sum = np.sum(min)\n",
        "      count = np.sum([t1, t2][0])\n",
        "      to_mean = sum/count\n",
        "      result.append(to_mean)\n",
        "  return result"
      ],
      "execution_count": 57,
      "outputs": []
    },
    {
      "cell_type": "markdown",
      "metadata": {
        "id": "gszSlhMhliiC"
      },
      "source": [
        "# Caso de plágio \n",
        "\n",
        "LINK>  'https://noticias.uol.com.br/colunas/constanca-rezende/2020/06/27/ministro-da-educacao-copiou-ao-menos-4-trechos-de-outras-teses-em-mestrado.htm'"
      ]
    },
    {
      "cell_type": "code",
      "metadata": {
        "colab": {
          "base_uri": "https://localhost:8080/"
        },
        "id": "NaSIolNOEmy5",
        "outputId": "1e452205-f868-4dc1-95e4-53f2d008e797"
      },
      "source": [
        "original_or_not1 = ['''\n",
        "Dependendo da natureza do negócio e da teia de constituintes que o embasam, pode-se detectar \n",
        "a existência de burocratas, técnicos e outros atores engajados em projetos e ideias que, \n",
        "para eles, fazem sentido e pelos quais lutam, mesmo que ainda não os tenham materializado, \n",
        "e às vezes, somente se configurando como uma mera agenda,\n",
        " cuja conformação e evolução está sujeita a códigos de conduta, \n",
        "a fontes de poder, ao compartilhamento de uma linguagem comum, a um ambiente propício à colaboração e\n",
        " a mecanismos de difusão da inovação entre as comunidades ocupacionais com que se relacionam''']\n",
        "original_or_not2 = ['''\n",
        "Dependendo da natureza do negócio e da teia de constituintes que o embasam, pode-se detectar a existência de burocratas, \n",
        "técnicos e outros atores engajados em projetos e ideias que, para eles, fazem sentido e pelos quais lutam,\n",
        " mesmo que ainda não os tenham materializado,\n",
        " e às vezes, somente se configurando como uma mera agenda, cuja conformação e evolução está sujeita a códigos de conduta, \n",
        " a fontes de poder, ao compartilhamento de uma linguagem comum,\n",
        " a um ambiente propício à colaboração e a mecanismos de difusão da inovação tecnológica\n",
        "\n",
        "''']\n",
        "\n",
        "medidor_de_similaridade(original_or_not1, original_or_not2)"
      ],
      "execution_count": 58,
      "outputs": [
        {
          "output_type": "execute_result",
          "data": {
            "text/plain": [
              "[0.901840490797546]"
            ]
          },
          "metadata": {
            "tags": []
          },
          "execution_count": 58
        }
      ]
    },
    {
      "cell_type": "markdown",
      "metadata": {
        "id": "I0Nnz2EmgwDO"
      },
      "source": [
        "# Youtube Comments\n",
        "\n",
        "O script para a captura dos dados você pode encontrar neste repositório --> https://github.com/Raisler/Youtube_Scrapy"
      ]
    },
    {
      "cell_type": "code",
      "metadata": {
        "id": "WbYJD0hRSMhL",
        "colab": {
          "base_uri": "https://localhost:8080/"
        },
        "outputId": "a9dfa37d-832c-49b4-bf03-3955a5d6e09b"
      },
      "source": [
        "import pandas as pd\n",
        "\n",
        "video1 = pd.read_csv('/content/video1.csv')\n",
        "video2 = pd.read_csv('/content/video2.csv')\n",
        "video1, video2"
      ],
      "execution_count": 35,
      "outputs": [
        {
          "output_type": "execute_result",
          "data": {
            "text/plain": [
              "(      Unnamed: 0                                            comment\n",
              " 0              0  Obrigado, gente! Valeu por dedicarem um pouqui...\n",
              " 1              1  mauro, meu irmão… q música linda!!! q privilég...\n",
              " 2              2               Dois monstros da música! Ficou lindo\n",
              " 3              3  Obrigado pelo lindo presente, que nos faz cone...\n",
              " 4              4  Minha esposa e eu acabamos de perder um Bebê e...\n",
              " ...          ...                                                ...\n",
              " 4595        4595  Tá aí um dueto que eu sempre quis Assistir e O...\n",
              " 4596        4596  Só felicidade por poder apreciar dois dos maio...\n",
              " 4597        4597  Fazia um tempo q não sentia emoção em uma canç...\n",
              " 4598        4598  Que bela canção!! Na voz desses dois monstros ...\n",
              " 4599        4599  Pra mim os dois melhores... e, se fosse os trê...\n",
              " \n",
              " [4600 rows x 2 columns],\n",
              "       Unnamed: 0                                            comment\n",
              " 0              0  Música Bíblica, que aquece nosso coração para ...\n",
              " 1              1  Com tanto gospel falando bobagem, quando  ouço...\n",
              " 2              2  Em meio à tantas músicas \"cristãs\" emocionais ...\n",
              " 3              3  Mauro, infelizmente temos poucos músicos crist...\n",
              " 4              4  Filhinhos, não amemos só de palavra ou de apar...\n",
              " ...          ...                                                ...\n",
              " 4595        4595                              Louvor maravilhoso.😍⚓\n",
              " 4596        4596                         canta muito mauro henrique\n",
              " 4597        4597                             Amo demais essa letra!\n",
              " 4598        4598         E o Maick na Jaguar!! hahahaha!! Carasssss\n",
              " 4599        4599                                    Que letra linda\n",
              " \n",
              " [4600 rows x 2 columns])"
            ]
          },
          "metadata": {
            "tags": []
          },
          "execution_count": 35
        }
      ]
    },
    {
      "cell_type": "code",
      "metadata": {
        "colab": {
          "base_uri": "https://localhost:8080/"
        },
        "id": "q-bHcbFYhFBo",
        "outputId": "2cb15947-40eb-42fd-efed-3c258922ef84"
      },
      "source": [
        "video1.isnull().sum(), video2.isnull().sum()"
      ],
      "execution_count": 36,
      "outputs": [
        {
          "output_type": "execute_result",
          "data": {
            "text/plain": [
              "(Unnamed: 0    0\n",
              " comment       0\n",
              " dtype: int64, Unnamed: 0    0\n",
              " comment       0\n",
              " dtype: int64)"
            ]
          },
          "metadata": {
            "tags": []
          },
          "execution_count": 36
        }
      ]
    },
    {
      "cell_type": "code",
      "metadata": {
        "id": "GWS4qaiAhlMT"
      },
      "source": [
        "video2.dropna(inplace = True)\n",
        "video1.dropna(inplace = True)"
      ],
      "execution_count": 37,
      "outputs": []
    },
    {
      "cell_type": "code",
      "metadata": {
        "colab": {
          "base_uri": "https://localhost:8080/"
        },
        "id": "VoLY2DuriDmG",
        "outputId": "7dfcd923-440a-412d-9b0c-3092b151110b"
      },
      "source": [
        "video1.isnull().sum(), video2.isnull().sum()"
      ],
      "execution_count": 38,
      "outputs": [
        {
          "output_type": "execute_result",
          "data": {
            "text/plain": [
              "(Unnamed: 0    0\n",
              " comment       0\n",
              " dtype: int64, Unnamed: 0    0\n",
              " comment       0\n",
              " dtype: int64)"
            ]
          },
          "metadata": {
            "tags": []
          },
          "execution_count": 38
        }
      ]
    },
    {
      "cell_type": "code",
      "metadata": {
        "id": "BUzFolrJivuJ"
      },
      "source": [
        "video1.drop(columns = 'Unnamed: 0', inplace = True)\n",
        "video2.drop(columns = 'Unnamed: 0', inplace = True)"
      ],
      "execution_count": 39,
      "outputs": []
    },
    {
      "cell_type": "markdown",
      "metadata": {
        "id": "-M2_ovJriHHA"
      },
      "source": [
        "## Limpeza dos textos"
      ]
    },
    {
      "cell_type": "code",
      "metadata": {
        "colab": {
          "base_uri": "https://localhost:8080/"
        },
        "id": "usfFeBXQjTJn",
        "outputId": "ea9fccf5-2d8e-4318-862a-ede77d93cf18"
      },
      "source": [
        "import nltk\n",
        "from nltk.corpus import stopwords\n",
        "from nltk.tokenize import word_tokenize\n",
        "from nltk.stem.snowball import SnowballStemmer\n",
        "from nltk.stem.wordnet import WordNetLemmatizer \n",
        "nltk.download('stopwords')\n",
        "nltk.download('punkt')\n",
        "nltk.download('wordnet')"
      ],
      "execution_count": 40,
      "outputs": [
        {
          "output_type": "stream",
          "text": [
            "[nltk_data] Downloading package stopwords to /root/nltk_data...\n",
            "[nltk_data]   Unzipping corpora/stopwords.zip.\n",
            "[nltk_data] Downloading package punkt to /root/nltk_data...\n",
            "[nltk_data]   Unzipping tokenizers/punkt.zip.\n",
            "[nltk_data] Downloading package wordnet to /root/nltk_data...\n",
            "[nltk_data]   Unzipping corpora/wordnet.zip.\n"
          ],
          "name": "stdout"
        },
        {
          "output_type": "execute_result",
          "data": {
            "text/plain": [
              "True"
            ]
          },
          "metadata": {
            "tags": []
          },
          "execution_count": 40
        }
      ]
    },
    {
      "cell_type": "code",
      "metadata": {
        "id": "dPBF2hUpICUw"
      },
      "source": [
        "def clean_function(df, column_text):\n",
        "  df[column_text] = df[[f'{column_text}']].replace(\n",
        "      regex=r'[!/,.-]',value='').apply(lambda x: x.astype(str).str.lower()).apply(\n",
        "      lambda x:x.astype(str).str.normalize('NFKD').str.encode('ascii', \n",
        "                                                        errors='ignore').str.decode('utf-8'))\n",
        "  return df"
      ],
      "execution_count": 41,
      "outputs": []
    },
    {
      "cell_type": "code",
      "metadata": {
        "id": "rslGCoQ4KX9b"
      },
      "source": [
        "video1 = clean_function(video1, 'comment')\n",
        "video2 = clean_function(video2, 'comment')"
      ],
      "execution_count": 42,
      "outputs": []
    },
    {
      "cell_type": "markdown",
      "metadata": {
        "id": "L9wQktrNeIO0"
      },
      "source": [
        "## Juntando os textos\n",
        "Para ver mais rápido, iremos juntar todos os comentários. Isso evitará muito uso compucional e demora para calcular a similaridade, já que a função "
      ]
    },
    {
      "cell_type": "code",
      "metadata": {
        "id": "FnswmWvqeHeH"
      },
      "source": [
        "comments1 = []\n",
        "comments2 = []\n",
        "\n",
        "for i in video1.comment:\n",
        "  comments1.append(i + ' ')\n",
        "\n",
        "for i in video2.comment:\n",
        "  comments2.append(i + ' ')"
      ],
      "execution_count": 50,
      "outputs": []
    },
    {
      "cell_type": "code",
      "metadata": {
        "id": "fztFtbxMnMm1"
      },
      "source": [
        "a = ' '.join(comments1)\n",
        "b = ' '.join(comments2)"
      ],
      "execution_count": 51,
      "outputs": []
    },
    {
      "cell_type": "code",
      "metadata": {
        "colab": {
          "base_uri": "https://localhost:8080/"
        },
        "id": "yB4brt1WmFuS",
        "outputId": "bb251a7b-1bc3-4c85-9a8d-d70b1d3c9865"
      },
      "source": [
        "# The same process\n",
        "youtube_vect = CountVectorizer(analyzer = 'word', ngram_range= (1, 3)) \n",
        "fit_comments = youtube_vect.fit_transform([a, b])\n",
        "array_comments_fit = fit_comments.toarray()\n",
        "array_comments_fit"
      ],
      "execution_count": 52,
      "outputs": [
        {
          "output_type": "execute_result",
          "data": {
            "text/plain": [
              "array([[0, 0, 0, ..., 0, 0, 0],\n",
              "       [1, 1, 1, ..., 6, 6, 6]])"
            ]
          },
          "metadata": {
            "tags": []
          },
          "execution_count": 52
        }
      ]
    },
    {
      "cell_type": "code",
      "metadata": {
        "colab": {
          "base_uri": "https://localhost:8080/"
        },
        "id": "fB0lWKadpEzt",
        "outputId": "e20b1113-bdd9-45a4-b225-1d6528cea43f"
      },
      "source": [
        "comments_intersection_list = np.amin(array_comments_fit, axis = 0) # Intersecção\n",
        "comments_intersection_list"
      ],
      "execution_count": 53,
      "outputs": [
        {
          "output_type": "execute_result",
          "data": {
            "text/plain": [
              "array([0, 0, 0, ..., 0, 0, 0])"
            ]
          },
          "metadata": {
            "tags": []
          },
          "execution_count": 53
        }
      ]
    },
    {
      "cell_type": "code",
      "metadata": {
        "colab": {
          "base_uri": "https://localhost:8080/"
        },
        "id": "EfbXzN18mIPW",
        "outputId": "08d9515a-77a7-4ce1-e1fe-6bc90c0b91ad"
      },
      "source": [
        "comments_sum = np.sum(comments_intersection_list)  \n",
        "comments_sum"
      ],
      "execution_count": 54,
      "outputs": [
        {
          "output_type": "execute_result",
          "data": {
            "text/plain": [
              "50189"
            ]
          },
          "metadata": {
            "tags": []
          },
          "execution_count": 54
        }
      ]
    },
    {
      "cell_type": "code",
      "metadata": {
        "colab": {
          "base_uri": "https://localhost:8080/"
        },
        "id": "fHPLHIJepXGB",
        "outputId": "773d3b08-0643-44ff-fdc4-a87415bccb31"
      },
      "source": [
        "comments_count = np.sum(array_comments_fit[0]) # Text base to compare\n",
        "comments_count"
      ],
      "execution_count": 55,
      "outputs": [
        {
          "output_type": "execute_result",
          "data": {
            "text/plain": [
              "285264"
            ]
          },
          "metadata": {
            "tags": []
          },
          "execution_count": 55
        }
      ]
    },
    {
      "cell_type": "code",
      "metadata": {
        "colab": {
          "base_uri": "https://localhost:8080/"
        },
        "id": "q2JGbvR0ps07",
        "outputId": "cfb51e57-13fb-4f2b-ffd9-d65baf364dde"
      },
      "source": [
        "comments_sum/comments_count"
      ],
      "execution_count": 56,
      "outputs": [
        {
          "output_type": "execute_result",
          "data": {
            "text/plain": [
              "0.17593877951651804"
            ]
          },
          "metadata": {
            "tags": []
          },
          "execution_count": 56
        }
      ]
    }
  ]
}