{
  "nbformat": 4,
  "nbformat_minor": 0,
  "metadata": {
    "colab": {
      "name": "Temperatures_BH_MG.ipynb",
      "provenance": [],
      "collapsed_sections": [],
      "toc_visible": true,
      "mount_file_id": "16PkuLUcx3uN6Jg4kfBkwfW4RofRkMYj6",
      "authorship_tag": "ABX9TyMADHinfUAxlbBlcVFFE7gQ",
      "include_colab_link": true
    },
    "kernelspec": {
      "name": "python3",
      "display_name": "Python 3"
    }
  },
  "cells": [
    {
      "cell_type": "markdown",
      "metadata": {
        "id": "view-in-github",
        "colab_type": "text"
      },
      "source": [
        "<a href=\"https://colab.research.google.com/github/Raisler/DataScience_Portfolio/blob/master/TemperatureAnalisys/Temperatures_BH_MG.ipynb\" target=\"_parent\"><img src=\"https://colab.research.google.com/assets/colab-badge.svg\" alt=\"Open In Colab\"/></a>"
      ]
    },
    {
      "cell_type": "markdown",
      "metadata": {
        "id": "5Xnc61pxRVa7"
      },
      "source": [
        "![temperature](https://images.vexels.com/media/users/3/144260/isolated/lists/d606d19b021fd53d278b26a11a4b468f-icone-de-temperatura-feber.png)\n",
        "# **TEMPERATURA**\n",
        "\n",
        "> Temperatura é um tipo de dado muito legal pra se trabalhar ou buscar aprendizado com muito prática, ele pode ser float, inteiro, celsius ou fahrenheit, etc, e não é tão difícil de enteder.\n",
        "```\n",
        "print('Hello Data')\n",
        "```\n",
        "> Este notebook é sobre um projeto prático de preparação de dados, e na primeira prática, será usado o dataset localizado no link abaixo. Problemas? raisler.dev@gmail.com \n",
        "\n",
        "[Link Dataset](https://data.world/data-society/global-climate-change-data)\n",
        "\n",
        "\n",
        "\n",
        "--------------\n",
        "\n",
        "@Author: Raisler Voigt\n"
      ]
    },
    {
      "cell_type": "markdown",
      "metadata": {
        "id": "AA2H2pyjtuWi"
      },
      "source": [
        "# Objetivos\n",
        "\n",
        "\n",
        "> Objetivo 1: O dataset são sobre vários estados de vários países, abaixo tentarei entender quais são os países e quais são os estados, o objetivo será pegar dois estados e comparar a temperatura deles desde X ano, como a industrialização cresceu significativamente em 1960, provável que seja de 1960.\n",
        "\n",
        "> Objetivo 2: Prever utilizando algum método de previsão temporal ou qualquer outro método em dois estados, e depois fazer uma comparação entre os dois com essas previsões."
      ]
    },
    {
      "cell_type": "code",
      "metadata": {
        "id": "WBe-K-7OSQw1",
        "outputId": "89fad800-5e2d-4924-ac04-0ad61e05c8af",
        "colab": {
          "base_uri": "https://localhost:8080/"
        }
      },
      "source": [
        "!pip install https://github.com/pandas-profiling/pandas-profiling/archive/master.zip -q"
      ],
      "execution_count": 1,
      "outputs": [
        {
          "output_type": "stream",
          "text": [
            "\u001b[K     | 43.8MB 950kB/s\n",
            "\u001b[K     |████████████████████████████████| 71kB 3.4MB/s \n",
            "\u001b[K     |████████████████████████████████| 71kB 3.8MB/s \n",
            "\u001b[K     |████████████████████████████████| 604kB 19.9MB/s \n",
            "\u001b[K     |████████████████████████████████| 3.1MB 35.5MB/s \n",
            "\u001b[K     |████████████████████████████████| 71kB 7.5MB/s \n",
            "\u001b[K     |████████████████████████████████| 296kB 50.5MB/s \n",
            "\u001b[?25h  Building wheel for pandas-profiling (setup.py) ... \u001b[?25l\u001b[?25hdone\n",
            "  Building wheel for htmlmin (setup.py) ... \u001b[?25l\u001b[?25hdone\n",
            "  Building wheel for imagehash (setup.py) ... \u001b[?25l\u001b[?25hdone\n"
          ],
          "name": "stdout"
        }
      ]
    },
    {
      "cell_type": "code",
      "metadata": {
        "id": "47YnvjEVxdpt"
      },
      "source": [
        "# Data Structure \n",
        "import numpy as np \n",
        "import pandas as pd\n",
        "\n",
        "# Vizualization\n",
        "import seaborn as sns\n",
        "import matplotlib.pyplot as plt\n",
        "from pandas_profiling import ProfileReport\n",
        "%matplotlib inline"
      ],
      "execution_count": 2,
      "outputs": []
    },
    {
      "cell_type": "markdown",
      "metadata": {
        "id": "I86z-2xadrMi"
      },
      "source": [
        "# Entendendo & Carregando os dados\n"
      ]
    },
    {
      "cell_type": "code",
      "metadata": {
        "id": "tkTwN5o7woZG",
        "outputId": "20a0e1d9-077e-45ff-8c9e-275f50968aff",
        "colab": {
          "base_uri": "https://localhost:8080/",
          "height": 137
        }
      },
      "source": [
        "df = pd.read_csv('https://raw.githubusercontent.com/Raisler/DataScience_Portfolio/master/TemperatureAnalisys/GlobalLandTemperaturesByState.csv')\n",
        "df.head(3)"
      ],
      "execution_count": 3,
      "outputs": [
        {
          "output_type": "execute_result",
          "data": {
            "text/html": [
              "<div>\n",
              "<style scoped>\n",
              "    .dataframe tbody tr th:only-of-type {\n",
              "        vertical-align: middle;\n",
              "    }\n",
              "\n",
              "    .dataframe tbody tr th {\n",
              "        vertical-align: top;\n",
              "    }\n",
              "\n",
              "    .dataframe thead th {\n",
              "        text-align: right;\n",
              "    }\n",
              "</style>\n",
              "<table border=\"1\" class=\"dataframe\">\n",
              "  <thead>\n",
              "    <tr style=\"text-align: right;\">\n",
              "      <th></th>\n",
              "      <th>dt</th>\n",
              "      <th>AverageTemperature</th>\n",
              "      <th>AverageTemperatureUncertainty</th>\n",
              "      <th>State</th>\n",
              "      <th>Country</th>\n",
              "    </tr>\n",
              "  </thead>\n",
              "  <tbody>\n",
              "    <tr>\n",
              "      <th>0</th>\n",
              "      <td>1855-05-01</td>\n",
              "      <td>25.544</td>\n",
              "      <td>1.171</td>\n",
              "      <td>Acre</td>\n",
              "      <td>Brazil</td>\n",
              "    </tr>\n",
              "    <tr>\n",
              "      <th>1</th>\n",
              "      <td>1855-06-01</td>\n",
              "      <td>24.228</td>\n",
              "      <td>1.103</td>\n",
              "      <td>Acre</td>\n",
              "      <td>Brazil</td>\n",
              "    </tr>\n",
              "    <tr>\n",
              "      <th>2</th>\n",
              "      <td>1855-07-01</td>\n",
              "      <td>24.371</td>\n",
              "      <td>1.044</td>\n",
              "      <td>Acre</td>\n",
              "      <td>Brazil</td>\n",
              "    </tr>\n",
              "  </tbody>\n",
              "</table>\n",
              "</div>"
            ],
            "text/plain": [
              "           dt  AverageTemperature  AverageTemperatureUncertainty State Country\n",
              "0  1855-05-01              25.544                          1.171  Acre  Brazil\n",
              "1  1855-06-01              24.228                          1.103  Acre  Brazil\n",
              "2  1855-07-01              24.371                          1.044  Acre  Brazil"
            ]
          },
          "metadata": {
            "tags": []
          },
          "execution_count": 3
        }
      ]
    },
    {
      "cell_type": "code",
      "metadata": {
        "id": "Mdw-yzLSp78P",
        "outputId": "50955826-6f56-4aa9-b524-2835378e9660",
        "colab": {
          "base_uri": "https://localhost:8080/",
          "height": 287
        }
      },
      "source": [
        "df.describe() # Aqui eu quero entender os dados da maneira mais simples e rápida possível"
      ],
      "execution_count": 4,
      "outputs": [
        {
          "output_type": "execute_result",
          "data": {
            "text/html": [
              "<div>\n",
              "<style scoped>\n",
              "    .dataframe tbody tr th:only-of-type {\n",
              "        vertical-align: middle;\n",
              "    }\n",
              "\n",
              "    .dataframe tbody tr th {\n",
              "        vertical-align: top;\n",
              "    }\n",
              "\n",
              "    .dataframe thead th {\n",
              "        text-align: right;\n",
              "    }\n",
              "</style>\n",
              "<table border=\"1\" class=\"dataframe\">\n",
              "  <thead>\n",
              "    <tr style=\"text-align: right;\">\n",
              "      <th></th>\n",
              "      <th>AverageTemperature</th>\n",
              "      <th>AverageTemperatureUncertainty</th>\n",
              "    </tr>\n",
              "  </thead>\n",
              "  <tbody>\n",
              "    <tr>\n",
              "      <th>count</th>\n",
              "      <td>620027.000000</td>\n",
              "      <td>620027.000000</td>\n",
              "    </tr>\n",
              "    <tr>\n",
              "      <th>mean</th>\n",
              "      <td>8.993111</td>\n",
              "      <td>1.287647</td>\n",
              "    </tr>\n",
              "    <tr>\n",
              "      <th>std</th>\n",
              "      <td>13.772150</td>\n",
              "      <td>1.360392</td>\n",
              "    </tr>\n",
              "    <tr>\n",
              "      <th>min</th>\n",
              "      <td>-45.389000</td>\n",
              "      <td>0.036000</td>\n",
              "    </tr>\n",
              "    <tr>\n",
              "      <th>25%</th>\n",
              "      <td>-0.693000</td>\n",
              "      <td>0.316000</td>\n",
              "    </tr>\n",
              "    <tr>\n",
              "      <th>50%</th>\n",
              "      <td>11.199000</td>\n",
              "      <td>0.656000</td>\n",
              "    </tr>\n",
              "    <tr>\n",
              "      <th>75%</th>\n",
              "      <td>19.899000</td>\n",
              "      <td>1.850000</td>\n",
              "    </tr>\n",
              "    <tr>\n",
              "      <th>max</th>\n",
              "      <td>36.339000</td>\n",
              "      <td>12.646000</td>\n",
              "    </tr>\n",
              "  </tbody>\n",
              "</table>\n",
              "</div>"
            ],
            "text/plain": [
              "       AverageTemperature  AverageTemperatureUncertainty\n",
              "count       620027.000000                  620027.000000\n",
              "mean             8.993111                       1.287647\n",
              "std             13.772150                       1.360392\n",
              "min            -45.389000                       0.036000\n",
              "25%             -0.693000                       0.316000\n",
              "50%             11.199000                       0.656000\n",
              "75%             19.899000                       1.850000\n",
              "max             36.339000                      12.646000"
            ]
          },
          "metadata": {
            "tags": []
          },
          "execution_count": 4
        }
      ]
    },
    {
      "cell_type": "code",
      "metadata": {
        "id": "GVKRVjDnRQW_",
        "outputId": "f32c8433-270a-47e0-c13a-42b3b84fcaf3",
        "colab": {
          "base_uri": "https://localhost:8080/"
        }
      },
      "source": [
        "df['Country'].value_counts() # Vendo os estados existentes em nosso dateset"
      ],
      "execution_count": 5,
      "outputs": [
        {
          "output_type": "execute_result",
          "data": {
            "text/plain": [
              "Russia           254972\n",
              "United States    149745\n",
              "India             86664\n",
              "China             68506\n",
              "Canada            35358\n",
              "Brazil            34328\n",
              "Australia         16102\n",
              "Name: Country, dtype: int64"
            ]
          },
          "metadata": {
            "tags": []
          },
          "execution_count": 5
        }
      ]
    },
    {
      "cell_type": "code",
      "metadata": {
        "id": "JqVweso5SQAD",
        "outputId": "794176af-2e0b-4051-d491-81b2e45c9296",
        "colab": {
          "base_uri": "https://localhost:8080/",
          "height": 406
        }
      },
      "source": [
        "Brazil = df['Country'] == 'Brazil'\n",
        "Brazil = df[Brazil]\n",
        "Brazil"
      ],
      "execution_count": 6,
      "outputs": [
        {
          "output_type": "execute_result",
          "data": {
            "text/html": [
              "<div>\n",
              "<style scoped>\n",
              "    .dataframe tbody tr th:only-of-type {\n",
              "        vertical-align: middle;\n",
              "    }\n",
              "\n",
              "    .dataframe tbody tr th {\n",
              "        vertical-align: top;\n",
              "    }\n",
              "\n",
              "    .dataframe thead th {\n",
              "        text-align: right;\n",
              "    }\n",
              "</style>\n",
              "<table border=\"1\" class=\"dataframe\">\n",
              "  <thead>\n",
              "    <tr style=\"text-align: right;\">\n",
              "      <th></th>\n",
              "      <th>dt</th>\n",
              "      <th>AverageTemperature</th>\n",
              "      <th>AverageTemperatureUncertainty</th>\n",
              "      <th>State</th>\n",
              "      <th>Country</th>\n",
              "    </tr>\n",
              "  </thead>\n",
              "  <tbody>\n",
              "    <tr>\n",
              "      <th>0</th>\n",
              "      <td>1855-05-01</td>\n",
              "      <td>25.544</td>\n",
              "      <td>1.171</td>\n",
              "      <td>Acre</td>\n",
              "      <td>Brazil</td>\n",
              "    </tr>\n",
              "    <tr>\n",
              "      <th>1</th>\n",
              "      <td>1855-06-01</td>\n",
              "      <td>24.228</td>\n",
              "      <td>1.103</td>\n",
              "      <td>Acre</td>\n",
              "      <td>Brazil</td>\n",
              "    </tr>\n",
              "    <tr>\n",
              "      <th>2</th>\n",
              "      <td>1855-07-01</td>\n",
              "      <td>24.371</td>\n",
              "      <td>1.044</td>\n",
              "      <td>Acre</td>\n",
              "      <td>Brazil</td>\n",
              "    </tr>\n",
              "    <tr>\n",
              "      <th>3</th>\n",
              "      <td>1855-08-01</td>\n",
              "      <td>25.427</td>\n",
              "      <td>1.073</td>\n",
              "      <td>Acre</td>\n",
              "      <td>Brazil</td>\n",
              "    </tr>\n",
              "    <tr>\n",
              "      <th>4</th>\n",
              "      <td>1855-09-01</td>\n",
              "      <td>25.675</td>\n",
              "      <td>1.014</td>\n",
              "      <td>Acre</td>\n",
              "      <td>Brazil</td>\n",
              "    </tr>\n",
              "    <tr>\n",
              "      <th>...</th>\n",
              "      <td>...</td>\n",
              "      <td>...</td>\n",
              "      <td>...</td>\n",
              "      <td>...</td>\n",
              "      <td>...</td>\n",
              "    </tr>\n",
              "    <tr>\n",
              "      <th>556546</th>\n",
              "      <td>2013-05-01</td>\n",
              "      <td>26.605</td>\n",
              "      <td>0.768</td>\n",
              "      <td>Tocantins</td>\n",
              "      <td>Brazil</td>\n",
              "    </tr>\n",
              "    <tr>\n",
              "      <th>556547</th>\n",
              "      <td>2013-06-01</td>\n",
              "      <td>26.646</td>\n",
              "      <td>0.834</td>\n",
              "      <td>Tocantins</td>\n",
              "      <td>Brazil</td>\n",
              "    </tr>\n",
              "    <tr>\n",
              "      <th>556548</th>\n",
              "      <td>2013-07-01</td>\n",
              "      <td>26.432</td>\n",
              "      <td>1.003</td>\n",
              "      <td>Tocantins</td>\n",
              "      <td>Brazil</td>\n",
              "    </tr>\n",
              "    <tr>\n",
              "      <th>556549</th>\n",
              "      <td>2013-08-01</td>\n",
              "      <td>27.276</td>\n",
              "      <td>0.898</td>\n",
              "      <td>Tocantins</td>\n",
              "      <td>Brazil</td>\n",
              "    </tr>\n",
              "    <tr>\n",
              "      <th>556550</th>\n",
              "      <td>2013-09-01</td>\n",
              "      <td>NaN</td>\n",
              "      <td>NaN</td>\n",
              "      <td>Tocantins</td>\n",
              "      <td>Brazil</td>\n",
              "    </tr>\n",
              "  </tbody>\n",
              "</table>\n",
              "<p>34328 rows × 5 columns</p>\n",
              "</div>"
            ],
            "text/plain": [
              "                dt  AverageTemperature  ...      State Country\n",
              "0       1855-05-01              25.544  ...       Acre  Brazil\n",
              "1       1855-06-01              24.228  ...       Acre  Brazil\n",
              "2       1855-07-01              24.371  ...       Acre  Brazil\n",
              "3       1855-08-01              25.427  ...       Acre  Brazil\n",
              "4       1855-09-01              25.675  ...       Acre  Brazil\n",
              "...            ...                 ...  ...        ...     ...\n",
              "556546  2013-05-01              26.605  ...  Tocantins  Brazil\n",
              "556547  2013-06-01              26.646  ...  Tocantins  Brazil\n",
              "556548  2013-07-01              26.432  ...  Tocantins  Brazil\n",
              "556549  2013-08-01              27.276  ...  Tocantins  Brazil\n",
              "556550  2013-09-01                 NaN  ...  Tocantins  Brazil\n",
              "\n",
              "[34328 rows x 5 columns]"
            ]
          },
          "metadata": {
            "tags": []
          },
          "execution_count": 6
        }
      ]
    },
    {
      "cell_type": "code",
      "metadata": {
        "id": "7i31V9CBah3Q",
        "outputId": "5f51a82e-ca75-44c6-a5c0-aee2c789ead6",
        "colab": {
          "base_uri": "https://localhost:8080/"
        }
      },
      "source": [
        "# Criado o Dataset apenas com o Brazil, veremos os estados disponíveis\n",
        "Brazil['State'].value_counts()"
      ],
      "execution_count": 7,
      "outputs": [
        {
          "output_type": "execute_result",
          "data": {
            "text/plain": [
              "Roraima                2277\n",
              "Alagoas                2181\n",
              "Mato Grosso Do Sul     2181\n",
              "Distrito Federal       2181\n",
              "Mato Grosso            2181\n",
              "Pernambuco             2181\n",
              "Santa Catarina         2181\n",
              "Rio De Janeiro         2181\n",
              "Bahia                  2181\n",
              "Sergipe                2181\n",
              "Rio Grande Do Sul      2181\n",
              "Tocantins              2181\n",
              "Minas Gerais           2181\n",
              "Amazonas               2025\n",
              "Rio Grande Do Norte    1953\n",
              "Acre                   1901\n",
              "Name: State, dtype: int64"
            ]
          },
          "metadata": {
            "tags": []
          },
          "execution_count": 7
        }
      ]
    },
    {
      "cell_type": "code",
      "metadata": {
        "id": "SmA_aVQ8a_S5",
        "outputId": "85adc28e-7f39-461b-b07a-0a5cb77db855",
        "colab": {
          "base_uri": "https://localhost:8080/",
          "height": 191
        }
      },
      "source": [
        "# Agora um dataset apenas com o estado escolhido\n",
        "Bahia = df['State'] == 'Bahia'\n",
        "Bahia = Brazil[Bahia]\n",
        "Bahia.head(3)"
      ],
      "execution_count": 8,
      "outputs": [
        {
          "output_type": "stream",
          "text": [
            "/usr/local/lib/python3.6/dist-packages/ipykernel_launcher.py:3: UserWarning: Boolean Series key will be reindexed to match DataFrame index.\n",
            "  This is separate from the ipykernel package so we can avoid doing imports until\n"
          ],
          "name": "stderr"
        },
        {
          "output_type": "execute_result",
          "data": {
            "text/html": [
              "<div>\n",
              "<style scoped>\n",
              "    .dataframe tbody tr th:only-of-type {\n",
              "        vertical-align: middle;\n",
              "    }\n",
              "\n",
              "    .dataframe tbody tr th {\n",
              "        vertical-align: top;\n",
              "    }\n",
              "\n",
              "    .dataframe thead th {\n",
              "        text-align: right;\n",
              "    }\n",
              "</style>\n",
              "<table border=\"1\" class=\"dataframe\">\n",
              "  <thead>\n",
              "    <tr style=\"text-align: right;\">\n",
              "      <th></th>\n",
              "      <th>dt</th>\n",
              "      <th>AverageTemperature</th>\n",
              "      <th>AverageTemperatureUncertainty</th>\n",
              "      <th>State</th>\n",
              "      <th>Country</th>\n",
              "    </tr>\n",
              "  </thead>\n",
              "  <tbody>\n",
              "    <tr>\n",
              "      <th>50081</th>\n",
              "      <td>1832-01-01</td>\n",
              "      <td>24.522</td>\n",
              "      <td>1.436</td>\n",
              "      <td>Bahia</td>\n",
              "      <td>Brazil</td>\n",
              "    </tr>\n",
              "    <tr>\n",
              "      <th>50082</th>\n",
              "      <td>1832-02-01</td>\n",
              "      <td>24.477</td>\n",
              "      <td>2.395</td>\n",
              "      <td>Bahia</td>\n",
              "      <td>Brazil</td>\n",
              "    </tr>\n",
              "    <tr>\n",
              "      <th>50083</th>\n",
              "      <td>1832-03-01</td>\n",
              "      <td>24.264</td>\n",
              "      <td>1.475</td>\n",
              "      <td>Bahia</td>\n",
              "      <td>Brazil</td>\n",
              "    </tr>\n",
              "  </tbody>\n",
              "</table>\n",
              "</div>"
            ],
            "text/plain": [
              "               dt  AverageTemperature  ...  State Country\n",
              "50081  1832-01-01              24.522  ...  Bahia  Brazil\n",
              "50082  1832-02-01              24.477  ...  Bahia  Brazil\n",
              "50083  1832-03-01              24.264  ...  Bahia  Brazil\n",
              "\n",
              "[3 rows x 5 columns]"
            ]
          },
          "metadata": {
            "tags": []
          },
          "execution_count": 8
        }
      ]
    },
    {
      "cell_type": "code",
      "metadata": {
        "id": "95lrdr_N67FG",
        "outputId": "00bdb54c-ed2d-40c2-c843-72ff08ce01e3",
        "colab": {
          "base_uri": "https://localhost:8080/",
          "height": 241
        }
      },
      "source": [
        "# Como não precisamos e nem faz sentido ter a coluna State & country (só temos Bahia) vou retirar para economizar espaço.\n",
        "\n",
        "Bahia.drop(inplace = True, columns= ['State', 'Country', 'AverageTemperatureUncertainty'])\n",
        "Bahia.head(3)"
      ],
      "execution_count": 9,
      "outputs": [
        {
          "output_type": "stream",
          "text": [
            "/usr/local/lib/python3.6/dist-packages/pandas/core/frame.py:4174: SettingWithCopyWarning: \n",
            "A value is trying to be set on a copy of a slice from a DataFrame\n",
            "\n",
            "See the caveats in the documentation: https://pandas.pydata.org/pandas-docs/stable/user_guide/indexing.html#returning-a-view-versus-a-copy\n",
            "  errors=errors,\n"
          ],
          "name": "stderr"
        },
        {
          "output_type": "execute_result",
          "data": {
            "text/html": [
              "<div>\n",
              "<style scoped>\n",
              "    .dataframe tbody tr th:only-of-type {\n",
              "        vertical-align: middle;\n",
              "    }\n",
              "\n",
              "    .dataframe tbody tr th {\n",
              "        vertical-align: top;\n",
              "    }\n",
              "\n",
              "    .dataframe thead th {\n",
              "        text-align: right;\n",
              "    }\n",
              "</style>\n",
              "<table border=\"1\" class=\"dataframe\">\n",
              "  <thead>\n",
              "    <tr style=\"text-align: right;\">\n",
              "      <th></th>\n",
              "      <th>dt</th>\n",
              "      <th>AverageTemperature</th>\n",
              "    </tr>\n",
              "  </thead>\n",
              "  <tbody>\n",
              "    <tr>\n",
              "      <th>50081</th>\n",
              "      <td>1832-01-01</td>\n",
              "      <td>24.522</td>\n",
              "    </tr>\n",
              "    <tr>\n",
              "      <th>50082</th>\n",
              "      <td>1832-02-01</td>\n",
              "      <td>24.477</td>\n",
              "    </tr>\n",
              "    <tr>\n",
              "      <th>50083</th>\n",
              "      <td>1832-03-01</td>\n",
              "      <td>24.264</td>\n",
              "    </tr>\n",
              "  </tbody>\n",
              "</table>\n",
              "</div>"
            ],
            "text/plain": [
              "               dt  AverageTemperature\n",
              "50081  1832-01-01              24.522\n",
              "50082  1832-02-01              24.477\n",
              "50083  1832-03-01              24.264"
            ]
          },
          "metadata": {
            "tags": []
          },
          "execution_count": 9
        }
      ]
    },
    {
      "cell_type": "code",
      "metadata": {
        "id": "f2WLHDIUw1pU",
        "outputId": "5818b1e9-f675-4998-a567-21f97db1c5db",
        "colab": {
          "base_uri": "https://localhost:8080/"
        }
      },
      "source": [
        "Bahia['dt'] = pd.to_datetime(Bahia['dt'], format = '%Y-%m-%d')\n",
        "Bahia.dtypes"
      ],
      "execution_count": 10,
      "outputs": [
        {
          "output_type": "stream",
          "text": [
            "/usr/local/lib/python3.6/dist-packages/ipykernel_launcher.py:1: SettingWithCopyWarning: \n",
            "A value is trying to be set on a copy of a slice from a DataFrame.\n",
            "Try using .loc[row_indexer,col_indexer] = value instead\n",
            "\n",
            "See the caveats in the documentation: https://pandas.pydata.org/pandas-docs/stable/user_guide/indexing.html#returning-a-view-versus-a-copy\n",
            "  \"\"\"Entry point for launching an IPython kernel.\n"
          ],
          "name": "stderr"
        },
        {
          "output_type": "execute_result",
          "data": {
            "text/plain": [
              "dt                    datetime64[ns]\n",
              "AverageTemperature           float64\n",
              "dtype: object"
            ]
          },
          "metadata": {
            "tags": []
          },
          "execution_count": 10
        }
      ]
    },
    {
      "cell_type": "code",
      "metadata": {
        "id": "Veoynhsw5Y_W",
        "outputId": "d54583ed-9fe3-4b2e-9c6e-3c342e840a77",
        "colab": {
          "base_uri": "https://localhost:8080/",
          "height": 167
        }
      },
      "source": [
        "Bahia.index = Bahia['dt']\n",
        "Bahia.head(3)"
      ],
      "execution_count": 11,
      "outputs": [
        {
          "output_type": "execute_result",
          "data": {
            "text/html": [
              "<div>\n",
              "<style scoped>\n",
              "    .dataframe tbody tr th:only-of-type {\n",
              "        vertical-align: middle;\n",
              "    }\n",
              "\n",
              "    .dataframe tbody tr th {\n",
              "        vertical-align: top;\n",
              "    }\n",
              "\n",
              "    .dataframe thead th {\n",
              "        text-align: right;\n",
              "    }\n",
              "</style>\n",
              "<table border=\"1\" class=\"dataframe\">\n",
              "  <thead>\n",
              "    <tr style=\"text-align: right;\">\n",
              "      <th></th>\n",
              "      <th>dt</th>\n",
              "      <th>AverageTemperature</th>\n",
              "    </tr>\n",
              "    <tr>\n",
              "      <th>dt</th>\n",
              "      <th></th>\n",
              "      <th></th>\n",
              "    </tr>\n",
              "  </thead>\n",
              "  <tbody>\n",
              "    <tr>\n",
              "      <th>1832-01-01</th>\n",
              "      <td>1832-01-01</td>\n",
              "      <td>24.522</td>\n",
              "    </tr>\n",
              "    <tr>\n",
              "      <th>1832-02-01</th>\n",
              "      <td>1832-02-01</td>\n",
              "      <td>24.477</td>\n",
              "    </tr>\n",
              "    <tr>\n",
              "      <th>1832-03-01</th>\n",
              "      <td>1832-03-01</td>\n",
              "      <td>24.264</td>\n",
              "    </tr>\n",
              "  </tbody>\n",
              "</table>\n",
              "</div>"
            ],
            "text/plain": [
              "                   dt  AverageTemperature\n",
              "dt                                       \n",
              "1832-01-01 1832-01-01              24.522\n",
              "1832-02-01 1832-02-01              24.477\n",
              "1832-03-01 1832-03-01              24.264"
            ]
          },
          "metadata": {
            "tags": []
          },
          "execution_count": 11
        }
      ]
    },
    {
      "cell_type": "markdown",
      "metadata": {
        "id": "GyKE_8tnzgjL"
      },
      "source": [
        "# Transformando tipo dos dados\n",
        "\n",
        "> Fica dificil fazer cálculo se meu número na realidade é uma string, por exemplo: Se eu tenho uma coluna de notas do enem e quero fazer a média dessas notas com determinada condição, essa nota vai de 0 a 10, porém ela é uma string, e se for string, quando eu fizer entrada: 10+10, a saída será \"1010\", se eu utilizar uma biblioteca, é provável que ocorra um erro.\n",
        "\n",
        "> Geralmente se faz análises temporais, vendas, temperatura ao longo do tempo(nosso caso), mortes por mês, etc, porém a data geralmente vai estar como string, porém eu preciso que ela seja do tipo datetime (sim, esse tipo existe), e mais uma vez, o Pandas possui uma funcionalidade que converte dados de um tipo para outro."
      ]
    },
    {
      "cell_type": "code",
      "metadata": {
        "id": "KslsG7tl4MBK",
        "outputId": "fce55a83-892d-4f67-d260-f28c6f0e71c4",
        "colab": {
          "base_uri": "https://localhost:8080/",
          "height": 271
        }
      },
      "source": [
        "Bahia.drop(['dt'], axis = 1, inplace = True)\n",
        "Bahia.head(3)"
      ],
      "execution_count": 12,
      "outputs": [
        {
          "output_type": "stream",
          "text": [
            "/usr/local/lib/python3.6/dist-packages/pandas/core/frame.py:4174: SettingWithCopyWarning: \n",
            "A value is trying to be set on a copy of a slice from a DataFrame\n",
            "\n",
            "See the caveats in the documentation: https://pandas.pydata.org/pandas-docs/stable/user_guide/indexing.html#returning-a-view-versus-a-copy\n",
            "  errors=errors,\n"
          ],
          "name": "stderr"
        },
        {
          "output_type": "execute_result",
          "data": {
            "text/html": [
              "<div>\n",
              "<style scoped>\n",
              "    .dataframe tbody tr th:only-of-type {\n",
              "        vertical-align: middle;\n",
              "    }\n",
              "\n",
              "    .dataframe tbody tr th {\n",
              "        vertical-align: top;\n",
              "    }\n",
              "\n",
              "    .dataframe thead th {\n",
              "        text-align: right;\n",
              "    }\n",
              "</style>\n",
              "<table border=\"1\" class=\"dataframe\">\n",
              "  <thead>\n",
              "    <tr style=\"text-align: right;\">\n",
              "      <th></th>\n",
              "      <th>AverageTemperature</th>\n",
              "    </tr>\n",
              "    <tr>\n",
              "      <th>dt</th>\n",
              "      <th></th>\n",
              "    </tr>\n",
              "  </thead>\n",
              "  <tbody>\n",
              "    <tr>\n",
              "      <th>1832-01-01</th>\n",
              "      <td>24.522</td>\n",
              "    </tr>\n",
              "    <tr>\n",
              "      <th>1832-02-01</th>\n",
              "      <td>24.477</td>\n",
              "    </tr>\n",
              "    <tr>\n",
              "      <th>1832-03-01</th>\n",
              "      <td>24.264</td>\n",
              "    </tr>\n",
              "  </tbody>\n",
              "</table>\n",
              "</div>"
            ],
            "text/plain": [
              "            AverageTemperature\n",
              "dt                            \n",
              "1832-01-01              24.522\n",
              "1832-02-01              24.477\n",
              "1832-03-01              24.264"
            ]
          },
          "metadata": {
            "tags": []
          },
          "execution_count": 12
        }
      ]
    },
    {
      "cell_type": "code",
      "metadata": {
        "id": "KB_S-vNNdt62",
        "outputId": "80c7956c-d786-4c4e-d00d-f30996525b7e",
        "colab": {
          "base_uri": "https://localhost:8080/",
          "height": 436
        }
      },
      "source": [
        "recente = Bahia.index > '1960-1-1'\n",
        "Bahia = Bahia[recente]\n",
        "Bahia"
      ],
      "execution_count": 13,
      "outputs": [
        {
          "output_type": "execute_result",
          "data": {
            "text/html": [
              "<div>\n",
              "<style scoped>\n",
              "    .dataframe tbody tr th:only-of-type {\n",
              "        vertical-align: middle;\n",
              "    }\n",
              "\n",
              "    .dataframe tbody tr th {\n",
              "        vertical-align: top;\n",
              "    }\n",
              "\n",
              "    .dataframe thead th {\n",
              "        text-align: right;\n",
              "    }\n",
              "</style>\n",
              "<table border=\"1\" class=\"dataframe\">\n",
              "  <thead>\n",
              "    <tr style=\"text-align: right;\">\n",
              "      <th></th>\n",
              "      <th>AverageTemperature</th>\n",
              "    </tr>\n",
              "    <tr>\n",
              "      <th>dt</th>\n",
              "      <th></th>\n",
              "    </tr>\n",
              "  </thead>\n",
              "  <tbody>\n",
              "    <tr>\n",
              "      <th>1960-02-01</th>\n",
              "      <td>25.602</td>\n",
              "    </tr>\n",
              "    <tr>\n",
              "      <th>1960-03-01</th>\n",
              "      <td>24.806</td>\n",
              "    </tr>\n",
              "    <tr>\n",
              "      <th>1960-04-01</th>\n",
              "      <td>24.061</td>\n",
              "    </tr>\n",
              "    <tr>\n",
              "      <th>1960-05-01</th>\n",
              "      <td>23.803</td>\n",
              "    </tr>\n",
              "    <tr>\n",
              "      <th>1960-06-01</th>\n",
              "      <td>22.398</td>\n",
              "    </tr>\n",
              "    <tr>\n",
              "      <th>...</th>\n",
              "      <td>...</td>\n",
              "    </tr>\n",
              "    <tr>\n",
              "      <th>2013-05-01</th>\n",
              "      <td>24.843</td>\n",
              "    </tr>\n",
              "    <tr>\n",
              "      <th>2013-06-01</th>\n",
              "      <td>23.998</td>\n",
              "    </tr>\n",
              "    <tr>\n",
              "      <th>2013-07-01</th>\n",
              "      <td>23.554</td>\n",
              "    </tr>\n",
              "    <tr>\n",
              "      <th>2013-08-01</th>\n",
              "      <td>23.966</td>\n",
              "    </tr>\n",
              "    <tr>\n",
              "      <th>2013-09-01</th>\n",
              "      <td>NaN</td>\n",
              "    </tr>\n",
              "  </tbody>\n",
              "</table>\n",
              "<p>644 rows × 1 columns</p>\n",
              "</div>"
            ],
            "text/plain": [
              "            AverageTemperature\n",
              "dt                            \n",
              "1960-02-01              25.602\n",
              "1960-03-01              24.806\n",
              "1960-04-01              24.061\n",
              "1960-05-01              23.803\n",
              "1960-06-01              22.398\n",
              "...                        ...\n",
              "2013-05-01              24.843\n",
              "2013-06-01              23.998\n",
              "2013-07-01              23.554\n",
              "2013-08-01              23.966\n",
              "2013-09-01                 NaN\n",
              "\n",
              "[644 rows x 1 columns]"
            ]
          },
          "metadata": {
            "tags": []
          },
          "execution_count": 13
        }
      ]
    },
    {
      "cell_type": "markdown",
      "metadata": {
        "id": "lJ-dWmlohV-b"
      },
      "source": [
        "# Repetindo o Processo para a criação do novo dataset \n",
        "# Minas Gerais e suas médias de temperatura desde 1960"
      ]
    },
    {
      "cell_type": "code",
      "metadata": {
        "id": "kJp16VH8TLw0",
        "outputId": "e05c5b8d-3b4a-4bb4-80f5-839cbacd61c4",
        "colab": {
          "base_uri": "https://localhost:8080/"
        }
      },
      "source": [
        "MG = Brazil['State'] == 'Minas Gerais'\n",
        "MG = Brazil[MG]\n",
        "MG['State'].value_counts()"
      ],
      "execution_count": 14,
      "outputs": [
        {
          "output_type": "execute_result",
          "data": {
            "text/plain": [
              "Minas Gerais    2181\n",
              "Name: State, dtype: int64"
            ]
          },
          "metadata": {
            "tags": []
          },
          "execution_count": 14
        }
      ]
    },
    {
      "cell_type": "code",
      "metadata": {
        "id": "twN4bq6PTT2Q",
        "outputId": "ab773628-883a-4948-c5b5-1d487d52c272",
        "colab": {
          "base_uri": "https://localhost:8080/",
          "height": 740
        }
      },
      "source": [
        "MG.drop(columns = ['Country', 'State', 'AverageTemperatureUncertainty'], inplace = True)\n",
        "MG['dt'] = pd.to_datetime(MG['dt'], format = '%Y-%m-%d')\n",
        "MG.index = MG['dt']\n",
        "MG['date'] = MG['dt']\n",
        "MG.drop(['date', 'dt'], axis = 1, inplace = True)\n",
        "# Desde 1960\n",
        "mask1 = MG.index > '1960-1-1'\n",
        "MG = MG[mask1]\n",
        "MG"
      ],
      "execution_count": 15,
      "outputs": [
        {
          "output_type": "stream",
          "text": [
            "/usr/local/lib/python3.6/dist-packages/pandas/core/frame.py:4174: SettingWithCopyWarning: \n",
            "A value is trying to be set on a copy of a slice from a DataFrame\n",
            "\n",
            "See the caveats in the documentation: https://pandas.pydata.org/pandas-docs/stable/user_guide/indexing.html#returning-a-view-versus-a-copy\n",
            "  errors=errors,\n",
            "/usr/local/lib/python3.6/dist-packages/ipykernel_launcher.py:2: SettingWithCopyWarning: \n",
            "A value is trying to be set on a copy of a slice from a DataFrame.\n",
            "Try using .loc[row_indexer,col_indexer] = value instead\n",
            "\n",
            "See the caveats in the documentation: https://pandas.pydata.org/pandas-docs/stable/user_guide/indexing.html#returning-a-view-versus-a-copy\n",
            "  \n",
            "/usr/local/lib/python3.6/dist-packages/ipykernel_launcher.py:4: SettingWithCopyWarning: \n",
            "A value is trying to be set on a copy of a slice from a DataFrame.\n",
            "Try using .loc[row_indexer,col_indexer] = value instead\n",
            "\n",
            "See the caveats in the documentation: https://pandas.pydata.org/pandas-docs/stable/user_guide/indexing.html#returning-a-view-versus-a-copy\n",
            "  after removing the cwd from sys.path.\n"
          ],
          "name": "stderr"
        },
        {
          "output_type": "execute_result",
          "data": {
            "text/html": [
              "<div>\n",
              "<style scoped>\n",
              "    .dataframe tbody tr th:only-of-type {\n",
              "        vertical-align: middle;\n",
              "    }\n",
              "\n",
              "    .dataframe tbody tr th {\n",
              "        vertical-align: top;\n",
              "    }\n",
              "\n",
              "    .dataframe thead th {\n",
              "        text-align: right;\n",
              "    }\n",
              "</style>\n",
              "<table border=\"1\" class=\"dataframe\">\n",
              "  <thead>\n",
              "    <tr style=\"text-align: right;\">\n",
              "      <th></th>\n",
              "      <th>AverageTemperature</th>\n",
              "    </tr>\n",
              "    <tr>\n",
              "      <th>dt</th>\n",
              "      <th></th>\n",
              "    </tr>\n",
              "  </thead>\n",
              "  <tbody>\n",
              "    <tr>\n",
              "      <th>1960-02-01</th>\n",
              "      <td>23.774</td>\n",
              "    </tr>\n",
              "    <tr>\n",
              "      <th>1960-03-01</th>\n",
              "      <td>23.437</td>\n",
              "    </tr>\n",
              "    <tr>\n",
              "      <th>1960-04-01</th>\n",
              "      <td>21.502</td>\n",
              "    </tr>\n",
              "    <tr>\n",
              "      <th>1960-05-01</th>\n",
              "      <td>19.887</td>\n",
              "    </tr>\n",
              "    <tr>\n",
              "      <th>1960-06-01</th>\n",
              "      <td>19.018</td>\n",
              "    </tr>\n",
              "    <tr>\n",
              "      <th>...</th>\n",
              "      <td>...</td>\n",
              "    </tr>\n",
              "    <tr>\n",
              "      <th>2013-05-01</th>\n",
              "      <td>21.581</td>\n",
              "    </tr>\n",
              "    <tr>\n",
              "      <th>2013-06-01</th>\n",
              "      <td>21.027</td>\n",
              "    </tr>\n",
              "    <tr>\n",
              "      <th>2013-07-01</th>\n",
              "      <td>20.529</td>\n",
              "    </tr>\n",
              "    <tr>\n",
              "      <th>2013-08-01</th>\n",
              "      <td>21.501</td>\n",
              "    </tr>\n",
              "    <tr>\n",
              "      <th>2013-09-01</th>\n",
              "      <td>NaN</td>\n",
              "    </tr>\n",
              "  </tbody>\n",
              "</table>\n",
              "<p>644 rows × 1 columns</p>\n",
              "</div>"
            ],
            "text/plain": [
              "            AverageTemperature\n",
              "dt                            \n",
              "1960-02-01              23.774\n",
              "1960-03-01              23.437\n",
              "1960-04-01              21.502\n",
              "1960-05-01              19.887\n",
              "1960-06-01              19.018\n",
              "...                        ...\n",
              "2013-05-01              21.581\n",
              "2013-06-01              21.027\n",
              "2013-07-01              20.529\n",
              "2013-08-01              21.501\n",
              "2013-09-01                 NaN\n",
              "\n",
              "[644 rows x 1 columns]"
            ]
          },
          "metadata": {
            "tags": []
          },
          "execution_count": 15
        }
      ]
    },
    {
      "cell_type": "markdown",
      "metadata": {
        "id": "JGILwZOG0J1U"
      },
      "source": [
        "# Verificação de Valores\n",
        "\n",
        "> Nessa etapa verificamos se há valores ausentes, duplicados, fora do padrão, etc em nosso dataset, para isso a biblioteca pandas oferece várias ferramentas. \n",
        "\n",
        "> Poderia ter sido feito antes da criação de novos datasets, mas tudo depende do objetivo e de como o processo irá se comportar em cada tipo de objetivo.\n",
        "\n",
        "Exemplos: \n",
        "\n",
        "```\n",
        "df.isnull()   # Retornará True para a existência de valores nulos ou ausentes.\n",
        "```\n",
        "\n",
        "![](https://miro.medium.com/max/154/1*6Jq1ScawKkLHN-uo5RGtYQ.png)"
      ]
    },
    {
      "cell_type": "code",
      "metadata": {
        "id": "fr7cH2rXTZ94",
        "outputId": "5e358139-b341-4420-eeb5-33b320ea488a",
        "colab": {
          "base_uri": "https://localhost:8080/"
        }
      },
      "source": [
        "# Agora temos dois datasets diferentes mas de proporções parecidas\n",
        "# Para conferir:\n",
        "\n",
        "print('''Bahia\n",
        "\n",
        "''', Bahia.describe(), ''' \n",
        "\n",
        "Minas Gerais\n",
        "\n",
        "''', MG.describe())"
      ],
      "execution_count": 16,
      "outputs": [
        {
          "output_type": "stream",
          "text": [
            "Bahia\n",
            "\n",
            "        AverageTemperature\n",
            "count          643.000000\n",
            "mean            24.565910\n",
            "std              1.253624\n",
            "min             21.264000\n",
            "25%             23.684000\n",
            "50%             24.791000\n",
            "75%             25.435500\n",
            "max             27.114000  \n",
            "\n",
            "Minas Gerais\n",
            "\n",
            "        AverageTemperature\n",
            "count          643.000000\n",
            "mean            22.405561\n",
            "std              1.733030\n",
            "min             18.011000\n",
            "25%             20.995500\n",
            "50%             22.774000\n",
            "75%             23.763000\n",
            "max             25.613000\n"
          ],
          "name": "stdout"
        }
      ]
    },
    {
      "cell_type": "code",
      "metadata": {
        "id": "pCUTsw97M6af",
        "outputId": "eb66f7c6-6f71-4821-f794-caf6d062be40",
        "colab": {
          "base_uri": "https://localhost:8080/"
        }
      },
      "source": [
        "print(Bahia.isnull().sum(),'''\n",
        "\n",
        "''', MG.isnull().sum()) # Vendo quantos valores nulos temos"
      ],
      "execution_count": 17,
      "outputs": [
        {
          "output_type": "stream",
          "text": [
            "AverageTemperature    1\n",
            "dtype: int64 \n",
            "\n",
            " AverageTemperature    1\n",
            "dtype: int64\n"
          ],
          "name": "stdout"
        }
      ]
    },
    {
      "cell_type": "code",
      "metadata": {
        "id": "kTnfkqO1l415",
        "outputId": "1f514596-e81c-4d6f-8302-bc2c773406a6",
        "colab": {
          "base_uri": "https://localhost:8080/",
          "height": 107
        }
      },
      "source": [
        "# Como só temos apenas um valor nulo vamos ver onde ele está, se for a mesma posição podemos excluir!\n",
        "# Se forem posições diferentes coloquei a média, já que é apenas um valor nulo\n",
        "\n",
        "bool_series_Bahia = pd.isnull(Bahia['AverageTemperature']) \n",
        "Bahia[bool_series_Bahia]"
      ],
      "execution_count": 18,
      "outputs": [
        {
          "output_type": "execute_result",
          "data": {
            "text/html": [
              "<div>\n",
              "<style scoped>\n",
              "    .dataframe tbody tr th:only-of-type {\n",
              "        vertical-align: middle;\n",
              "    }\n",
              "\n",
              "    .dataframe tbody tr th {\n",
              "        vertical-align: top;\n",
              "    }\n",
              "\n",
              "    .dataframe thead th {\n",
              "        text-align: right;\n",
              "    }\n",
              "</style>\n",
              "<table border=\"1\" class=\"dataframe\">\n",
              "  <thead>\n",
              "    <tr style=\"text-align: right;\">\n",
              "      <th></th>\n",
              "      <th>AverageTemperature</th>\n",
              "    </tr>\n",
              "    <tr>\n",
              "      <th>dt</th>\n",
              "      <th></th>\n",
              "    </tr>\n",
              "  </thead>\n",
              "  <tbody>\n",
              "    <tr>\n",
              "      <th>2013-09-01</th>\n",
              "      <td>NaN</td>\n",
              "    </tr>\n",
              "  </tbody>\n",
              "</table>\n",
              "</div>"
            ],
            "text/plain": [
              "            AverageTemperature\n",
              "dt                            \n",
              "2013-09-01                 NaN"
            ]
          },
          "metadata": {
            "tags": []
          },
          "execution_count": 18
        }
      ]
    },
    {
      "cell_type": "code",
      "metadata": {
        "id": "j41vMoXzukq2",
        "outputId": "2c272b92-6352-49f4-893e-219a25b6057e",
        "colab": {
          "base_uri": "https://localhost:8080/",
          "height": 107
        }
      },
      "source": [
        "bool_series_MG = pd.isnull(MG['AverageTemperature']) \n",
        "MG[bool_series_MG]"
      ],
      "execution_count": 19,
      "outputs": [
        {
          "output_type": "execute_result",
          "data": {
            "text/html": [
              "<div>\n",
              "<style scoped>\n",
              "    .dataframe tbody tr th:only-of-type {\n",
              "        vertical-align: middle;\n",
              "    }\n",
              "\n",
              "    .dataframe tbody tr th {\n",
              "        vertical-align: top;\n",
              "    }\n",
              "\n",
              "    .dataframe thead th {\n",
              "        text-align: right;\n",
              "    }\n",
              "</style>\n",
              "<table border=\"1\" class=\"dataframe\">\n",
              "  <thead>\n",
              "    <tr style=\"text-align: right;\">\n",
              "      <th></th>\n",
              "      <th>AverageTemperature</th>\n",
              "    </tr>\n",
              "    <tr>\n",
              "      <th>dt</th>\n",
              "      <th></th>\n",
              "    </tr>\n",
              "  </thead>\n",
              "  <tbody>\n",
              "    <tr>\n",
              "      <th>2013-09-01</th>\n",
              "      <td>NaN</td>\n",
              "    </tr>\n",
              "  </tbody>\n",
              "</table>\n",
              "</div>"
            ],
            "text/plain": [
              "            AverageTemperature\n",
              "dt                            \n",
              "2013-09-01                 NaN"
            ]
          },
          "metadata": {
            "tags": []
          },
          "execution_count": 19
        }
      ]
    },
    {
      "cell_type": "code",
      "metadata": {
        "id": "IuHpF8HYu8FD",
        "outputId": "476e2c7a-8cb2-467f-a172-7f6840c908e1",
        "colab": {
          "base_uri": "https://localhost:8080/"
        }
      },
      "source": [
        "# Como é a mesma data e não nos importa ter a última linha do nosso dataset, vou remover\n",
        "\n",
        "Bahia.dropna(inplace = True)\n",
        "MG.dropna(inplace = True)\n",
        "print(Bahia.isnull().sum(),'''\n",
        "\n",
        "''', MG.isnull().sum()) "
      ],
      "execution_count": 20,
      "outputs": [
        {
          "output_type": "stream",
          "text": [
            "AverageTemperature    0\n",
            "dtype: int64 \n",
            "\n",
            " AverageTemperature    0\n",
            "dtype: int64\n"
          ],
          "name": "stdout"
        }
      ]
    },
    {
      "cell_type": "markdown",
      "metadata": {
        "id": "MgD1nXce4kQJ"
      },
      "source": [
        "# Bahia vs Minas Gerais\n"
      ]
    },
    {
      "cell_type": "code",
      "metadata": {
        "id": "iLd2YE-N47jH",
        "outputId": "08d58c5f-7712-48e9-9947-dd5dd72b860e",
        "colab": {
          "base_uri": "https://localhost:8080/",
          "height": 570
        }
      },
      "source": [
        "plt.figure(figsize=[12, 9])\n",
        "x = Bahia.index\n",
        "plt.plot(x, Bahia['AverageTemperature'])\n",
        "plt.plot(x, MG['AverageTemperature'] )\n",
        "plt.title('Média de Temperatura: MG vs BH')"
      ],
      "execution_count": 21,
      "outputs": [
        {
          "output_type": "execute_result",
          "data": {
            "text/plain": [
              "Text(0.5, 1.0, 'Média de Temperatura: MG vs BH')"
            ]
          },
          "metadata": {
            "tags": []
          },
          "execution_count": 21
        },
        {
          "output_type": "display_data",
          "data": {
            "image/png": "[encoded data removed]",
            "text/plain": [
              "<Figure size 864x648 with 1 Axes>"
            ]
          },
          "metadata": {
            "tags": [],
            "needs_background": "light"
          }
        }
      ]
    },
    {
      "cell_type": "code",
      "metadata": {
        "id": "eBkDVbvSG1II",
        "outputId": "71876874-c8a5-4812-de56-e7541fd46363",
        "colab": {
          "base_uri": "https://localhost:8080/",
          "height": 570
        }
      },
      "source": [
        "plt.figure(figsize=[12, 9])\n",
        "x = Bahia.index\n",
        "plt.scatter(x, Bahia['AverageTemperature'])\n",
        "plt.scatter(x, MG['AverageTemperature'] )\n",
        "plt.title('Média de Temperatura: MG vs BH')"
      ],
      "execution_count": 22,
      "outputs": [
        {
          "output_type": "execute_result",
          "data": {
            "text/plain": [
              "Text(0.5, 1.0, 'Média de Temperatura: MG vs BH')"
            ]
          },
          "metadata": {
            "tags": []
          },
          "execution_count": 22
        },
        {
          "output_type": "display_data",
          "data": {
            "image/png": "[encoded data removed]",
            "text/plain": [
              "<Figure size 864x648 with 1 Axes>"
            ]
          },
          "metadata": {
            "tags": [],
            "needs_background": "light"
          }
        }
      ]
    },
    {
      "cell_type": "markdown",
      "metadata": {
        "id": "dOZk2wMJGWYf"
      },
      "source": [
        "# Previsões"
      ]
    },
    {
      "cell_type": "code",
      "metadata": {
        "id": "kQ49HsKAGbkC",
        "outputId": "7b17934a-10a9-48a3-c1ba-c8243875feb6",
        "colab": {
          "base_uri": "https://localhost:8080/",
          "height": 701
        }
      },
      "source": [
        "!pip install pmdarima"
      ],
      "execution_count": 23,
      "outputs": [
        {
          "output_type": "stream",
          "text": [
            "Collecting pmdarima\n",
            "\u001b[?25l  Downloading https://files.pythonhosted.org/packages/be/62/725b3b6ae0e56c77534de5a8139322e7b863ca53fd5bd6bd3b7de87d0c20/pmdarima-1.7.1-cp36-cp36m-manylinux1_x86_64.whl (1.5MB)\n",
            "\u001b[K     |████████████████████████████████| 1.5MB 4.3MB/s \n",
            "\u001b[?25hCollecting Cython<0.29.18,>=0.29\n",
            "\u001b[?25l  Downloading https://files.pythonhosted.org/packages/e7/d7/510ddef0248f3e1e91f9cc7e31c0f35f8954d0af92c5c3fd4c853e859ebe/Cython-0.29.17-cp36-cp36m-manylinux1_x86_64.whl (2.1MB)\n",
            "\u001b[K     |████████████████████████████████| 2.1MB 39.2MB/s \n",
            "\u001b[?25hRequirement already satisfied: urllib3 in /usr/local/lib/python3.6/dist-packages (from pmdarima) (1.24.3)\n",
            "Collecting setuptools<50.0.0\n",
            "\u001b[?25l  Downloading https://files.pythonhosted.org/packages/c3/a9/5dc32465951cf4812e9e93b4ad2d314893c2fa6d5f66ce5c057af6e76d85/setuptools-49.6.0-py3-none-any.whl (803kB)\n",
            "\u001b[K     |████████████████████████████████| 808kB 46.5MB/s \n",
            "\u001b[?25hRequirement already satisfied: pandas>=0.19 in /usr/local/lib/python3.6/dist-packages (from pmdarima) (1.1.4)\n",
            "Requirement already satisfied: numpy>=1.17.3 in /usr/local/lib/python3.6/dist-packages (from pmdarima) (1.18.5)\n",
            "Requirement already satisfied: joblib>=0.11 in /usr/local/lib/python3.6/dist-packages (from pmdarima) (0.17.0)\n",
            "Collecting statsmodels<0.12,>=0.11\n",
            "\u001b[?25l  Downloading https://files.pythonhosted.org/packages/cb/83/540fd83238a18abe6c2d280fa8e489ac5fcefa1f370f0ca1acd16ae1b860/statsmodels-0.11.1-cp36-cp36m-manylinux1_x86_64.whl (8.7MB)\n",
            "\u001b[K     |████████████████████████████████| 8.7MB 21.7MB/s \n",
            "\u001b[?25hRequirement already satisfied: scipy>=1.3.2 in /usr/local/lib/python3.6/dist-packages (from pmdarima) (1.4.1)\n",
            "Requirement already satisfied: scikit-learn>=0.22 in /usr/local/lib/python3.6/dist-packages (from pmdarima) (0.22.2.post1)\n",
            "Requirement already satisfied: pytz>=2017.2 in /usr/local/lib/python3.6/dist-packages (from pandas>=0.19->pmdarima) (2018.9)\n",
            "Requirement already satisfied: python-dateutil>=2.7.3 in /usr/local/lib/python3.6/dist-packages (from pandas>=0.19->pmdarima) (2.8.1)\n",
            "Requirement already satisfied: patsy>=0.5 in /usr/local/lib/python3.6/dist-packages (from statsmodels<0.12,>=0.11->pmdarima) (0.5.1)\n",
            "Requirement already satisfied: six>=1.5 in /usr/local/lib/python3.6/dist-packages (from python-dateutil>=2.7.3->pandas>=0.19->pmdarima) (1.15.0)\n",
            "\u001b[31mERROR: datascience 0.10.6 has requirement folium==0.2.1, but you'll have folium 0.8.3 which is incompatible.\u001b[0m\n",
            "Installing collected packages: Cython, setuptools, statsmodels, pmdarima\n",
            "  Found existing installation: Cython 0.29.21\n",
            "    Uninstalling Cython-0.29.21:\n",
            "      Successfully uninstalled Cython-0.29.21\n",
            "  Found existing installation: setuptools 50.3.2\n",
            "    Uninstalling setuptools-50.3.2:\n",
            "      Successfully uninstalled setuptools-50.3.2\n",
            "  Found existing installation: statsmodels 0.10.2\n",
            "    Uninstalling statsmodels-0.10.2:\n",
            "      Successfully uninstalled statsmodels-0.10.2\n",
            "Successfully installed Cython-0.29.17 pmdarima-1.7.1 setuptools-49.6.0 statsmodels-0.11.1\n"
          ],
          "name": "stdout"
        },
        {
          "output_type": "display_data",
          "data": {
            "application/vnd.colab-display-data+json": {
              "pip_warning": {
                "packages": [
                  "pkg_resources",
                  "statsmodels"
                ]
              }
            }
          },
          "metadata": {
            "tags": []
          }
        }
      ]
    },
    {
      "cell_type": "code",
      "metadata": {
        "id": "WmVhUnKwHRxp"
      },
      "source": [
        "from fbprophet import Prophet"
      ],
      "execution_count": 24,
      "outputs": []
    },
    {
      "cell_type": "code",
      "metadata": {
        "id": "ETy-sTtrHRz_"
      },
      "source": [
        "m = Prophet() "
      ],
      "execution_count": 25,
      "outputs": []
    },
    {
      "cell_type": "code",
      "metadata": {
        "id": "_rUuY85aHR26",
        "outputId": "cb77d0ec-beb2-4987-ecad-1b8a867815de",
        "colab": {
          "base_uri": "https://localhost:8080/"
        }
      },
      "source": [
        "Bahia['ds'] = Bahia.index\n",
        "Bahia['y'] = Bahia['AverageTemperature']\n",
        "m.fit(Bahia)"
      ],
      "execution_count": 26,
      "outputs": [
        {
          "output_type": "stream",
          "text": [
            "INFO:fbprophet:Disabling weekly seasonality. Run prophet with weekly_seasonality=True to override this.\n",
            "INFO:fbprophet:Disabling daily seasonality. Run prophet with daily_seasonality=True to override this.\n"
          ],
          "name": "stderr"
        },
        {
          "output_type": "execute_result",
          "data": {
            "text/plain": [
              "<fbprophet.forecaster.Prophet at 0x7ff4e58d8b70>"
            ]
          },
          "metadata": {
            "tags": []
          },
          "execution_count": 26
        }
      ]
    },
    {
      "cell_type": "code",
      "metadata": {
        "id": "kNfn5-l4NI3J",
        "outputId": "d57c844b-bfe5-499d-8463-018a49b54f0d",
        "colab": {
          "base_uri": "https://localhost:8080/",
          "height": 204
        }
      },
      "source": [
        "future = m.make_future_dataframe(periods=20, freq='MS')\n",
        "future.tail()"
      ],
      "execution_count": 27,
      "outputs": [
        {
          "output_type": "execute_result",
          "data": {
            "text/html": [
              "<div>\n",
              "<style scoped>\n",
              "    .dataframe tbody tr th:only-of-type {\n",
              "        vertical-align: middle;\n",
              "    }\n",
              "\n",
              "    .dataframe tbody tr th {\n",
              "        vertical-align: top;\n",
              "    }\n",
              "\n",
              "    .dataframe thead th {\n",
              "        text-align: right;\n",
              "    }\n",
              "</style>\n",
              "<table border=\"1\" class=\"dataframe\">\n",
              "  <thead>\n",
              "    <tr style=\"text-align: right;\">\n",
              "      <th></th>\n",
              "      <th>ds</th>\n",
              "    </tr>\n",
              "  </thead>\n",
              "  <tbody>\n",
              "    <tr>\n",
              "      <th>658</th>\n",
              "      <td>2014-12-01</td>\n",
              "    </tr>\n",
              "    <tr>\n",
              "      <th>659</th>\n",
              "      <td>2015-01-01</td>\n",
              "    </tr>\n",
              "    <tr>\n",
              "      <th>660</th>\n",
              "      <td>2015-02-01</td>\n",
              "    </tr>\n",
              "    <tr>\n",
              "      <th>661</th>\n",
              "      <td>2015-03-01</td>\n",
              "    </tr>\n",
              "    <tr>\n",
              "      <th>662</th>\n",
              "      <td>2015-04-01</td>\n",
              "    </tr>\n",
              "  </tbody>\n",
              "</table>\n",
              "</div>"
            ],
            "text/plain": [
              "            ds\n",
              "658 2014-12-01\n",
              "659 2015-01-01\n",
              "660 2015-02-01\n",
              "661 2015-03-01\n",
              "662 2015-04-01"
            ]
          },
          "metadata": {
            "tags": []
          },
          "execution_count": 27
        }
      ]
    },
    {
      "cell_type": "code",
      "metadata": {
        "id": "mujtTrSKNs9y",
        "outputId": "808142b2-77f8-4308-e800-dfaf16f67585",
        "colab": {
          "base_uri": "https://localhost:8080/",
          "height": 669
        }
      },
      "source": [
        "forecast = m.predict(future)\n",
        "forecast[['ds', 'yhat', 'yhat_lower', 'yhat_upper']].tail(20)"
      ],
      "execution_count": 28,
      "outputs": [
        {
          "output_type": "execute_result",
          "data": {
            "text/html": [
              "<div>\n",
              "<style scoped>\n",
              "    .dataframe tbody tr th:only-of-type {\n",
              "        vertical-align: middle;\n",
              "    }\n",
              "\n",
              "    .dataframe tbody tr th {\n",
              "        vertical-align: top;\n",
              "    }\n",
              "\n",
              "    .dataframe thead th {\n",
              "        text-align: right;\n",
              "    }\n",
              "</style>\n",
              "<table border=\"1\" class=\"dataframe\">\n",
              "  <thead>\n",
              "    <tr style=\"text-align: right;\">\n",
              "      <th></th>\n",
              "      <th>ds</th>\n",
              "      <th>yhat</th>\n",
              "      <th>yhat_lower</th>\n",
              "      <th>yhat_upper</th>\n",
              "    </tr>\n",
              "  </thead>\n",
              "  <tbody>\n",
              "    <tr>\n",
              "      <th>643</th>\n",
              "      <td>2013-09-01</td>\n",
              "      <td>25.478887</td>\n",
              "      <td>24.837916</td>\n",
              "      <td>26.194558</td>\n",
              "    </tr>\n",
              "    <tr>\n",
              "      <th>644</th>\n",
              "      <td>2013-10-01</td>\n",
              "      <td>26.151572</td>\n",
              "      <td>25.408127</td>\n",
              "      <td>26.789628</td>\n",
              "    </tr>\n",
              "    <tr>\n",
              "      <th>645</th>\n",
              "      <td>2013-11-01</td>\n",
              "      <td>26.102331</td>\n",
              "      <td>25.420453</td>\n",
              "      <td>26.804051</td>\n",
              "    </tr>\n",
              "    <tr>\n",
              "      <th>646</th>\n",
              "      <td>2013-12-01</td>\n",
              "      <td>25.842325</td>\n",
              "      <td>25.172159</td>\n",
              "      <td>26.520187</td>\n",
              "    </tr>\n",
              "    <tr>\n",
              "      <th>647</th>\n",
              "      <td>2014-01-01</td>\n",
              "      <td>25.936122</td>\n",
              "      <td>25.262154</td>\n",
              "      <td>26.557546</td>\n",
              "    </tr>\n",
              "    <tr>\n",
              "      <th>648</th>\n",
              "      <td>2014-02-01</td>\n",
              "      <td>26.157838</td>\n",
              "      <td>25.503207</td>\n",
              "      <td>26.854260</td>\n",
              "    </tr>\n",
              "    <tr>\n",
              "      <th>649</th>\n",
              "      <td>2014-03-01</td>\n",
              "      <td>26.042067</td>\n",
              "      <td>25.369040</td>\n",
              "      <td>26.731589</td>\n",
              "    </tr>\n",
              "    <tr>\n",
              "      <th>650</th>\n",
              "      <td>2014-04-01</td>\n",
              "      <td>25.401867</td>\n",
              "      <td>24.683938</td>\n",
              "      <td>26.105136</td>\n",
              "    </tr>\n",
              "    <tr>\n",
              "      <th>651</th>\n",
              "      <td>2014-05-01</td>\n",
              "      <td>24.617864</td>\n",
              "      <td>23.935732</td>\n",
              "      <td>25.281351</td>\n",
              "    </tr>\n",
              "    <tr>\n",
              "      <th>652</th>\n",
              "      <td>2014-06-01</td>\n",
              "      <td>23.470749</td>\n",
              "      <td>22.785724</td>\n",
              "      <td>24.144860</td>\n",
              "    </tr>\n",
              "    <tr>\n",
              "      <th>653</th>\n",
              "      <td>2014-07-01</td>\n",
              "      <td>23.058384</td>\n",
              "      <td>22.370326</td>\n",
              "      <td>23.749807</td>\n",
              "    </tr>\n",
              "    <tr>\n",
              "      <th>654</th>\n",
              "      <td>2014-08-01</td>\n",
              "      <td>23.936430</td>\n",
              "      <td>23.239501</td>\n",
              "      <td>24.615293</td>\n",
              "    </tr>\n",
              "    <tr>\n",
              "      <th>655</th>\n",
              "      <td>2014-09-01</td>\n",
              "      <td>25.441052</td>\n",
              "      <td>24.729277</td>\n",
              "      <td>26.107255</td>\n",
              "    </tr>\n",
              "    <tr>\n",
              "      <th>656</th>\n",
              "      <td>2014-10-01</td>\n",
              "      <td>26.178996</td>\n",
              "      <td>25.493378</td>\n",
              "      <td>26.869390</td>\n",
              "    </tr>\n",
              "    <tr>\n",
              "      <th>657</th>\n",
              "      <td>2014-11-01</td>\n",
              "      <td>26.105501</td>\n",
              "      <td>25.467130</td>\n",
              "      <td>26.802016</td>\n",
              "    </tr>\n",
              "    <tr>\n",
              "      <th>658</th>\n",
              "      <td>2014-12-01</td>\n",
              "      <td>25.922230</td>\n",
              "      <td>25.234198</td>\n",
              "      <td>26.595170</td>\n",
              "    </tr>\n",
              "    <tr>\n",
              "      <th>659</th>\n",
              "      <td>2015-01-01</td>\n",
              "      <td>25.975998</td>\n",
              "      <td>25.272266</td>\n",
              "      <td>26.645563</td>\n",
              "    </tr>\n",
              "    <tr>\n",
              "      <th>660</th>\n",
              "      <td>2015-02-01</td>\n",
              "      <td>26.069969</td>\n",
              "      <td>25.412036</td>\n",
              "      <td>26.780368</td>\n",
              "    </tr>\n",
              "    <tr>\n",
              "      <th>661</th>\n",
              "      <td>2015-03-01</td>\n",
              "      <td>26.125802</td>\n",
              "      <td>25.460963</td>\n",
              "      <td>26.829857</td>\n",
              "    </tr>\n",
              "    <tr>\n",
              "      <th>662</th>\n",
              "      <td>2015-04-01</td>\n",
              "      <td>25.437703</td>\n",
              "      <td>24.775448</td>\n",
              "      <td>26.089768</td>\n",
              "    </tr>\n",
              "  </tbody>\n",
              "</table>\n",
              "</div>"
            ],
            "text/plain": [
              "            ds       yhat  yhat_lower  yhat_upper\n",
              "643 2013-09-01  25.478887   24.837916   26.194558\n",
              "644 2013-10-01  26.151572   25.408127   26.789628\n",
              "645 2013-11-01  26.102331   25.420453   26.804051\n",
              "646 2013-12-01  25.842325   25.172159   26.520187\n",
              "647 2014-01-01  25.936122   25.262154   26.557546\n",
              "648 2014-02-01  26.157838   25.503207   26.854260\n",
              "649 2014-03-01  26.042067   25.369040   26.731589\n",
              "650 2014-04-01  25.401867   24.683938   26.105136\n",
              "651 2014-05-01  24.617864   23.935732   25.281351\n",
              "652 2014-06-01  23.470749   22.785724   24.144860\n",
              "653 2014-07-01  23.058384   22.370326   23.749807\n",
              "654 2014-08-01  23.936430   23.239501   24.615293\n",
              "655 2014-09-01  25.441052   24.729277   26.107255\n",
              "656 2014-10-01  26.178996   25.493378   26.869390\n",
              "657 2014-11-01  26.105501   25.467130   26.802016\n",
              "658 2014-12-01  25.922230   25.234198   26.595170\n",
              "659 2015-01-01  25.975998   25.272266   26.645563\n",
              "660 2015-02-01  26.069969   25.412036   26.780368\n",
              "661 2015-03-01  26.125802   25.460963   26.829857\n",
              "662 2015-04-01  25.437703   24.775448   26.089768"
            ]
          },
          "metadata": {
            "tags": []
          },
          "execution_count": 28
        }
      ]
    },
    {
      "cell_type": "code",
      "metadata": {
        "id": "YxUrAA9oPeJu",
        "outputId": "a0e44053-5b37-451d-9943-e6b901de9842",
        "colab": {
          "base_uri": "https://localhost:8080/",
          "height": 1000
        }
      },
      "source": [
        "from pmdarima.arima import auto_arima\n",
        "ts = Bahia['AverageTemperature']\n",
        "modelo_auto = auto_arima(ts, m = 12, seasonal = True, trace = False)\n",
        "modelo_auto.summary()"
      ],
      "execution_count": 29,
      "outputs": [
        {
          "output_type": "stream",
          "text": [
            "/usr/local/lib/python3.6/dist-packages/statsmodels/base/model.py:568: ConvergenceWarning:\n",
            "\n",
            "Maximum Likelihood optimization failed to converge. Check mle_retvals\n",
            "\n",
            "/usr/local/lib/python3.6/dist-packages/statsmodels/base/model.py:568: ConvergenceWarning:\n",
            "\n",
            "Maximum Likelihood optimization failed to converge. Check mle_retvals\n",
            "\n",
            "/usr/local/lib/python3.6/dist-packages/statsmodels/base/model.py:568: ConvergenceWarning:\n",
            "\n",
            "Maximum Likelihood optimization failed to converge. Check mle_retvals\n",
            "\n",
            "/usr/local/lib/python3.6/dist-packages/statsmodels/base/model.py:568: ConvergenceWarning:\n",
            "\n",
            "Maximum Likelihood optimization failed to converge. Check mle_retvals\n",
            "\n",
            "/usr/local/lib/python3.6/dist-packages/statsmodels/base/model.py:568: ConvergenceWarning:\n",
            "\n",
            "Maximum Likelihood optimization failed to converge. Check mle_retvals\n",
            "\n",
            "/usr/local/lib/python3.6/dist-packages/statsmodels/base/model.py:568: ConvergenceWarning:\n",
            "\n",
            "Maximum Likelihood optimization failed to converge. Check mle_retvals\n",
            "\n",
            "/usr/local/lib/python3.6/dist-packages/statsmodels/base/model.py:568: ConvergenceWarning:\n",
            "\n",
            "Maximum Likelihood optimization failed to converge. Check mle_retvals\n",
            "\n",
            "/usr/local/lib/python3.6/dist-packages/statsmodels/base/model.py:568: ConvergenceWarning:\n",
            "\n",
            "Maximum Likelihood optimization failed to converge. Check mle_retvals\n",
            "\n",
            "/usr/local/lib/python3.6/dist-packages/statsmodels/base/model.py:568: ConvergenceWarning:\n",
            "\n",
            "Maximum Likelihood optimization failed to converge. Check mle_retvals\n",
            "\n",
            "/usr/local/lib/python3.6/dist-packages/statsmodels/base/model.py:568: ConvergenceWarning:\n",
            "\n",
            "Maximum Likelihood optimization failed to converge. Check mle_retvals\n",
            "\n",
            "/usr/local/lib/python3.6/dist-packages/statsmodels/base/model.py:568: ConvergenceWarning:\n",
            "\n",
            "Maximum Likelihood optimization failed to converge. Check mle_retvals\n",
            "\n",
            "/usr/local/lib/python3.6/dist-packages/statsmodels/base/model.py:568: ConvergenceWarning:\n",
            "\n",
            "Maximum Likelihood optimization failed to converge. Check mle_retvals\n",
            "\n",
            "/usr/local/lib/python3.6/dist-packages/statsmodels/base/model.py:568: ConvergenceWarning:\n",
            "\n",
            "Maximum Likelihood optimization failed to converge. Check mle_retvals\n",
            "\n",
            "/usr/local/lib/python3.6/dist-packages/statsmodels/base/model.py:568: ConvergenceWarning:\n",
            "\n",
            "Maximum Likelihood optimization failed to converge. Check mle_retvals\n",
            "\n",
            "/usr/local/lib/python3.6/dist-packages/statsmodels/base/model.py:568: ConvergenceWarning:\n",
            "\n",
            "Maximum Likelihood optimization failed to converge. Check mle_retvals\n",
            "\n",
            "/usr/local/lib/python3.6/dist-packages/statsmodels/base/model.py:568: ConvergenceWarning:\n",
            "\n",
            "Maximum Likelihood optimization failed to converge. Check mle_retvals\n",
            "\n",
            "/usr/local/lib/python3.6/dist-packages/statsmodels/base/model.py:568: ConvergenceWarning:\n",
            "\n",
            "Maximum Likelihood optimization failed to converge. Check mle_retvals\n",
            "\n",
            "/usr/local/lib/python3.6/dist-packages/statsmodels/base/model.py:568: ConvergenceWarning:\n",
            "\n",
            "Maximum Likelihood optimization failed to converge. Check mle_retvals\n",
            "\n",
            "/usr/local/lib/python3.6/dist-packages/statsmodels/base/model.py:568: ConvergenceWarning:\n",
            "\n",
            "Maximum Likelihood optimization failed to converge. Check mle_retvals\n",
            "\n",
            "/usr/local/lib/python3.6/dist-packages/statsmodels/base/model.py:568: ConvergenceWarning:\n",
            "\n",
            "Maximum Likelihood optimization failed to converge. Check mle_retvals\n",
            "\n",
            "/usr/local/lib/python3.6/dist-packages/statsmodels/tsa/statespace/sarimax.py:963: UserWarning:\n",
            "\n",
            "Non-stationary starting autoregressive parameters found. Using zeros as starting parameters.\n",
            "\n",
            "/usr/local/lib/python3.6/dist-packages/statsmodels/tsa/statespace/sarimax.py:975: UserWarning:\n",
            "\n",
            "Non-invertible starting MA parameters found. Using zeros as starting parameters.\n",
            "\n",
            "/usr/local/lib/python3.6/dist-packages/pmdarima/arima/_auto_solvers.py:437: ModelFitWarning:\n",
            "\n",
            "Error fitting  ARIMA(4,1,2)(2,0,1)[12] intercept (if you do not want to see these warnings, run with error_action=\"ignore\").\n",
            "Traceback:\n",
            "Traceback (most recent call last):\n",
            "  File \"/usr/local/lib/python3.6/dist-packages/pmdarima/arima/_auto_solvers.py\", line 421, in _fit_candidate_model\n",
            "    fit.fit(x, exogenous=xreg, **fit_params)\n",
            "  File \"/usr/local/lib/python3.6/dist-packages/pmdarima/arima/arima.py\", line 472, in fit\n",
            "    self._fit(y, exogenous, **fit_args)\n",
            "  File \"/usr/local/lib/python3.6/dist-packages/pmdarima/arima/arima.py\", line 397, in _fit\n",
            "    fit, self.arima_res_ = _fit_wrapper()\n",
            "  File \"/usr/local/lib/python3.6/dist-packages/pmdarima/arima/arima.py\", line 389, in _fit_wrapper\n",
            "    **fit_args)\n",
            "  File \"/usr/local/lib/python3.6/dist-packages/statsmodels/tsa/statespace/mlemodel.py\", line 659, in fit\n",
            "    skip_hessian=True, **kwargs)\n",
            "  File \"/usr/local/lib/python3.6/dist-packages/statsmodels/base/model.py\", line 526, in fit\n",
            "    full_output=full_output)\n",
            "  File \"/usr/local/lib/python3.6/dist-packages/statsmodels/base/optimizer.py\", line 218, in _fit\n",
            "    hess=hessian)\n",
            "  File \"/usr/local/lib/python3.6/dist-packages/statsmodels/base/optimizer.py\", line 440, in _fit_lbfgs\n",
            "    **extra_kwargs)\n",
            "  File \"/usr/local/lib/python3.6/dist-packages/scipy/optimize/lbfgsb.py\", line 199, in fmin_l_bfgs_b\n",
            "    **opts)\n",
            "  File \"/usr/local/lib/python3.6/dist-packages/scipy/optimize/lbfgsb.py\", line 345, in _minimize_lbfgsb\n",
            "    f, g = func_and_grad(x)\n",
            "  File \"/usr/local/lib/python3.6/dist-packages/scipy/optimize/lbfgsb.py\", line 291, in func_and_grad\n",
            "    g = _approx_fprime_helper(x, fun, epsilon, args=args, f0=f)\n",
            "  File \"/usr/local/lib/python3.6/dist-packages/scipy/optimize/optimize.py\", line 697, in _approx_fprime_helper\n",
            "    df = (f(*((xk + d,) + args)) - f0) / d[k]\n",
            "  File \"/usr/local/lib/python3.6/dist-packages/scipy/optimize/optimize.py\", line 327, in function_wrapper\n",
            "    return function(*(wrapper_args + args))\n",
            "  File \"/usr/local/lib/python3.6/dist-packages/statsmodels/base/model.py\", line 500, in f\n",
            "    return -self.loglike(params, *args) / nobs\n",
            "  File \"/usr/local/lib/python3.6/dist-packages/statsmodels/tsa/statespace/mlemodel.py\", line 889, in loglike\n",
            "    loglike = self.ssm.loglike(complex_step=complex_step, **kwargs)\n",
            "  File \"/usr/local/lib/python3.6/dist-packages/statsmodels/tsa/statespace/kalman_filter.py\", line 977, in loglike\n",
            "    kfilter = self._filter(**kwargs)\n",
            "  File \"/usr/local/lib/python3.6/dist-packages/statsmodels/tsa/statespace/kalman_filter.py\", line 897, in _filter\n",
            "    self._initialize_state(prefix=prefix, complex_step=complex_step)\n",
            "  File \"/usr/local/lib/python3.6/dist-packages/statsmodels/tsa/statespace/representation.py\", line 950, in _initialize_state\n",
            "    complex_step=complex_step)\n",
            "  File \"statsmodels/tsa/statespace/_representation.pyx\", line 1341, in statsmodels.tsa.statespace._representation.dStatespace.initialize\n",
            "  File \"statsmodels/tsa/statespace/_representation.pyx\", line 1334, in statsmodels.tsa.statespace._representation.dStatespace.initialize\n",
            "  File \"statsmodels/tsa/statespace/_initialization.pyx\", line 288, in statsmodels.tsa.statespace._initialization.dInitialization.initialize\n",
            "  File \"statsmodels/tsa/statespace/_initialization.pyx\", line 406, in statsmodels.tsa.statespace._initialization.dInitialization.initialize_stationary_stationary_cov\n",
            "  File \"statsmodels/tsa/statespace/_tools.pyx\", line 1206, in statsmodels.tsa.statespace._tools._dsolve_discrete_lyapunov\n",
            "numpy.linalg.LinAlgError: LU decomposition error.\n",
            "\n",
            "\n",
            "/usr/local/lib/python3.6/dist-packages/statsmodels/tsa/statespace/sarimax.py:963: UserWarning:\n",
            "\n",
            "Non-stationary starting autoregressive parameters found. Using zeros as starting parameters.\n",
            "\n",
            "/usr/local/lib/python3.6/dist-packages/statsmodels/tsa/statespace/sarimax.py:975: UserWarning:\n",
            "\n",
            "Non-invertible starting MA parameters found. Using zeros as starting parameters.\n",
            "\n",
            "/usr/local/lib/python3.6/dist-packages/statsmodels/base/model.py:568: ConvergenceWarning:\n",
            "\n",
            "Maximum Likelihood optimization failed to converge. Check mle_retvals\n",
            "\n",
            "/usr/local/lib/python3.6/dist-packages/statsmodels/base/model.py:568: ConvergenceWarning:\n",
            "\n",
            "Maximum Likelihood optimization failed to converge. Check mle_retvals\n",
            "\n",
            "/usr/local/lib/python3.6/dist-packages/statsmodels/tsa/statespace/sarimax.py:963: UserWarning:\n",
            "\n",
            "Non-stationary starting autoregressive parameters found. Using zeros as starting parameters.\n",
            "\n",
            "/usr/local/lib/python3.6/dist-packages/statsmodels/tsa/statespace/sarimax.py:975: UserWarning:\n",
            "\n",
            "Non-invertible starting MA parameters found. Using zeros as starting parameters.\n",
            "\n",
            "/usr/local/lib/python3.6/dist-packages/statsmodels/base/model.py:568: ConvergenceWarning:\n",
            "\n",
            "Maximum Likelihood optimization failed to converge. Check mle_retvals\n",
            "\n",
            "/usr/local/lib/python3.6/dist-packages/statsmodels/tsa/statespace/sarimax.py:963: UserWarning:\n",
            "\n",
            "Non-stationary starting autoregressive parameters found. Using zeros as starting parameters.\n",
            "\n",
            "/usr/local/lib/python3.6/dist-packages/statsmodels/tsa/statespace/sarimax.py:975: UserWarning:\n",
            "\n",
            "Non-invertible starting MA parameters found. Using zeros as starting parameters.\n",
            "\n",
            "/usr/local/lib/python3.6/dist-packages/statsmodels/tsa/statespace/sarimax.py:963: UserWarning:\n",
            "\n",
            "Non-stationary starting autoregressive parameters found. Using zeros as starting parameters.\n",
            "\n",
            "/usr/local/lib/python3.6/dist-packages/statsmodels/tsa/statespace/sarimax.py:975: UserWarning:\n",
            "\n",
            "Non-invertible starting MA parameters found. Using zeros as starting parameters.\n",
            "\n",
            "/usr/local/lib/python3.6/dist-packages/statsmodels/base/model.py:568: ConvergenceWarning:\n",
            "\n",
            "Maximum Likelihood optimization failed to converge. Check mle_retvals\n",
            "\n",
            "/usr/local/lib/python3.6/dist-packages/statsmodels/tsa/statespace/sarimax.py:963: UserWarning:\n",
            "\n",
            "Non-stationary starting autoregressive parameters found. Using zeros as starting parameters.\n",
            "\n",
            "/usr/local/lib/python3.6/dist-packages/statsmodels/tsa/statespace/sarimax.py:975: UserWarning:\n",
            "\n",
            "Non-invertible starting MA parameters found. Using zeros as starting parameters.\n",
            "\n",
            "/usr/local/lib/python3.6/dist-packages/statsmodels/base/model.py:568: ConvergenceWarning:\n",
            "\n",
            "Maximum Likelihood optimization failed to converge. Check mle_retvals\n",
            "\n",
            "/usr/local/lib/python3.6/dist-packages/statsmodels/tsa/statespace/sarimax.py:963: UserWarning:\n",
            "\n",
            "Non-stationary starting autoregressive parameters found. Using zeros as starting parameters.\n",
            "\n",
            "/usr/local/lib/python3.6/dist-packages/statsmodels/tsa/statespace/sarimax.py:975: UserWarning:\n",
            "\n",
            "Non-invertible starting MA parameters found. Using zeros as starting parameters.\n",
            "\n",
            "/usr/local/lib/python3.6/dist-packages/statsmodels/base/model.py:568: ConvergenceWarning:\n",
            "\n",
            "Maximum Likelihood optimization failed to converge. Check mle_retvals\n",
            "\n",
            "/usr/local/lib/python3.6/dist-packages/statsmodels/tsa/statespace/sarimax.py:963: UserWarning:\n",
            "\n",
            "Non-stationary starting autoregressive parameters found. Using zeros as starting parameters.\n",
            "\n",
            "/usr/local/lib/python3.6/dist-packages/statsmodels/tsa/statespace/sarimax.py:975: UserWarning:\n",
            "\n",
            "Non-invertible starting MA parameters found. Using zeros as starting parameters.\n",
            "\n",
            "/usr/local/lib/python3.6/dist-packages/statsmodels/base/model.py:568: ConvergenceWarning:\n",
            "\n",
            "Maximum Likelihood optimization failed to converge. Check mle_retvals\n",
            "\n",
            "/usr/local/lib/python3.6/dist-packages/statsmodels/tsa/statespace/sarimax.py:975: UserWarning:\n",
            "\n",
            "Non-invertible starting MA parameters found. Using zeros as starting parameters.\n",
            "\n",
            "/usr/local/lib/python3.6/dist-packages/statsmodels/tsa/statespace/sarimax.py:963: UserWarning:\n",
            "\n",
            "Non-stationary starting autoregressive parameters found. Using zeros as starting parameters.\n",
            "\n",
            "/usr/local/lib/python3.6/dist-packages/statsmodels/tsa/statespace/sarimax.py:975: UserWarning:\n",
            "\n",
            "Non-invertible starting MA parameters found. Using zeros as starting parameters.\n",
            "\n",
            "/usr/local/lib/python3.6/dist-packages/statsmodels/base/model.py:568: ConvergenceWarning:\n",
            "\n",
            "Maximum Likelihood optimization failed to converge. Check mle_retvals\n",
            "\n",
            "/usr/local/lib/python3.6/dist-packages/statsmodels/base/model.py:568: ConvergenceWarning:\n",
            "\n",
            "Maximum Likelihood optimization failed to converge. Check mle_retvals\n",
            "\n",
            "/usr/local/lib/python3.6/dist-packages/statsmodels/tsa/statespace/sarimax.py:975: UserWarning:\n",
            "\n",
            "Non-invertible starting MA parameters found. Using zeros as starting parameters.\n",
            "\n",
            "/usr/local/lib/python3.6/dist-packages/statsmodels/base/model.py:568: ConvergenceWarning:\n",
            "\n",
            "Maximum Likelihood optimization failed to converge. Check mle_retvals\n",
            "\n",
            "/usr/local/lib/python3.6/dist-packages/statsmodels/tsa/statespace/sarimax.py:963: UserWarning:\n",
            "\n",
            "Non-stationary starting autoregressive parameters found. Using zeros as starting parameters.\n",
            "\n",
            "/usr/local/lib/python3.6/dist-packages/statsmodels/tsa/statespace/sarimax.py:975: UserWarning:\n",
            "\n",
            "Non-invertible starting MA parameters found. Using zeros as starting parameters.\n",
            "\n",
            "/usr/local/lib/python3.6/dist-packages/statsmodels/tsa/statespace/sarimax.py:963: UserWarning:\n",
            "\n",
            "Non-stationary starting autoregressive parameters found. Using zeros as starting parameters.\n",
            "\n",
            "/usr/local/lib/python3.6/dist-packages/statsmodels/tsa/statespace/sarimax.py:975: UserWarning:\n",
            "\n",
            "Non-invertible starting MA parameters found. Using zeros as starting parameters.\n",
            "\n",
            "/usr/local/lib/python3.6/dist-packages/statsmodels/base/model.py:568: ConvergenceWarning:\n",
            "\n",
            "Maximum Likelihood optimization failed to converge. Check mle_retvals\n",
            "\n"
          ],
          "name": "stderr"
        },
        {
          "output_type": "execute_result",
          "data": {
            "text/html": [
              "<table class=\"simpletable\">\n",
              "<caption>SARIMAX Results</caption>\n",
              "<tr>\n",
              "  <th>Dep. Variable:</th>                   <td>y</td>                <th>  No. Observations:  </th>    <td>643</td>  \n",
              "</tr>\n",
              "<tr>\n",
              "  <th>Model:</th>           <td>SARIMAX(4, 1, 3)x(2, 0, [1], 12)</td> <th>  Log Likelihood     </th> <td>-494.989</td>\n",
              "</tr>\n",
              "<tr>\n",
              "  <th>Date:</th>                    <td>Tue, 17 Nov 2020</td>         <th>  AIC                </th> <td>1013.978</td>\n",
              "</tr>\n",
              "<tr>\n",
              "  <th>Time:</th>                        <td>13:10:57</td>             <th>  BIC                </th> <td>1067.553</td>\n",
              "</tr>\n",
              "<tr>\n",
              "  <th>Sample:</th>                          <td>0</td>                <th>  HQIC               </th> <td>1034.770</td>\n",
              "</tr>\n",
              "<tr>\n",
              "  <th></th>                              <td> - 643</td>              <th>                     </th>     <td> </td>   \n",
              "</tr>\n",
              "<tr>\n",
              "  <th>Covariance Type:</th>                <td>opg</td>               <th>                     </th>     <td> </td>   \n",
              "</tr>\n",
              "</table>\n",
              "<table class=\"simpletable\">\n",
              "<tr>\n",
              "      <td></td>         <th>coef</th>     <th>std err</th>      <th>z</th>      <th>P>|z|</th>  <th>[0.025</th>    <th>0.975]</th>  \n",
              "</tr>\n",
              "<tr>\n",
              "  <th>intercept</th> <td> 4.168e-05</td> <td>    0.000</td> <td>    0.304</td> <td> 0.761</td> <td>   -0.000</td> <td>    0.000</td>\n",
              "</tr>\n",
              "<tr>\n",
              "  <th>ar.L1</th>     <td>   -0.5896</td> <td>    0.681</td> <td>   -0.866</td> <td> 0.387</td> <td>   -1.924</td> <td>    0.745</td>\n",
              "</tr>\n",
              "<tr>\n",
              "  <th>ar.L2</th>     <td>    0.0547</td> <td>    0.465</td> <td>    0.118</td> <td> 0.906</td> <td>   -0.858</td> <td>    0.967</td>\n",
              "</tr>\n",
              "<tr>\n",
              "  <th>ar.L3</th>     <td>    0.4418</td> <td>    0.440</td> <td>    1.004</td> <td> 0.316</td> <td>   -0.421</td> <td>    1.304</td>\n",
              "</tr>\n",
              "<tr>\n",
              "  <th>ar.L4</th>     <td>   -0.0137</td> <td>    0.058</td> <td>   -0.237</td> <td> 0.813</td> <td>   -0.127</td> <td>    0.099</td>\n",
              "</tr>\n",
              "<tr>\n",
              "  <th>ma.L1</th>     <td>    0.2107</td> <td>    0.678</td> <td>    0.311</td> <td> 0.756</td> <td>   -1.118</td> <td>    1.539</td>\n",
              "</tr>\n",
              "<tr>\n",
              "  <th>ma.L2</th>     <td>   -0.4867</td> <td>    0.467</td> <td>   -1.042</td> <td> 0.297</td> <td>   -1.402</td> <td>    0.429</td>\n",
              "</tr>\n",
              "<tr>\n",
              "  <th>ma.L3</th>     <td>   -0.6906</td> <td>    0.687</td> <td>   -1.005</td> <td> 0.315</td> <td>   -2.037</td> <td>    0.656</td>\n",
              "</tr>\n",
              "<tr>\n",
              "  <th>ar.S.L12</th>  <td>    0.8254</td> <td>    0.058</td> <td>   14.188</td> <td> 0.000</td> <td>    0.711</td> <td>    0.939</td>\n",
              "</tr>\n",
              "<tr>\n",
              "  <th>ar.S.L24</th>  <td>    0.1449</td> <td>    0.054</td> <td>    2.701</td> <td> 0.007</td> <td>    0.040</td> <td>    0.250</td>\n",
              "</tr>\n",
              "<tr>\n",
              "  <th>ma.S.L12</th>  <td>   -0.7438</td> <td>    0.046</td> <td>  -16.189</td> <td> 0.000</td> <td>   -0.834</td> <td>   -0.654</td>\n",
              "</tr>\n",
              "<tr>\n",
              "  <th>sigma2</th>    <td>    0.2696</td> <td>    0.016</td> <td>   17.080</td> <td> 0.000</td> <td>    0.239</td> <td>    0.301</td>\n",
              "</tr>\n",
              "</table>\n",
              "<table class=\"simpletable\">\n",
              "<tr>\n",
              "  <th>Ljung-Box (Q):</th>          <td>58.26</td> <th>  Jarque-Bera (JB):  </th> <td>2.07</td> \n",
              "</tr>\n",
              "<tr>\n",
              "  <th>Prob(Q):</th>                <td>0.03</td>  <th>  Prob(JB):          </th> <td>0.36</td> \n",
              "</tr>\n",
              "<tr>\n",
              "  <th>Heteroskedasticity (H):</th> <td>1.18</td>  <th>  Skew:              </th> <td>-0.08</td>\n",
              "</tr>\n",
              "<tr>\n",
              "  <th>Prob(H) (two-sided):</th>    <td>0.22</td>  <th>  Kurtosis:          </th> <td>3.22</td> \n",
              "</tr>\n",
              "</table><br/><br/>Warnings:<br/>[1] Covariance matrix calculated using the outer product of gradients (complex-step)."
            ],
            "text/plain": [
              "<class 'statsmodels.iolib.summary.Summary'>\n",
              "\"\"\"\n",
              "                                      SARIMAX Results                                       \n",
              "============================================================================================\n",
              "Dep. Variable:                                    y   No. Observations:                  643\n",
              "Model:             SARIMAX(4, 1, 3)x(2, 0, [1], 12)   Log Likelihood                -494.989\n",
              "Date:                              Tue, 17 Nov 2020   AIC                           1013.978\n",
              "Time:                                      13:10:57   BIC                           1067.553\n",
              "Sample:                                           0   HQIC                          1034.770\n",
              "                                              - 643                                         \n",
              "Covariance Type:                                opg                                         \n",
              "==============================================================================\n",
              "                 coef    std err          z      P>|z|      [0.025      0.975]\n",
              "------------------------------------------------------------------------------\n",
              "intercept   4.168e-05      0.000      0.304      0.761      -0.000       0.000\n",
              "ar.L1         -0.5896      0.681     -0.866      0.387      -1.924       0.745\n",
              "ar.L2          0.0547      0.465      0.118      0.906      -0.858       0.967\n",
              "ar.L3          0.4418      0.440      1.004      0.316      -0.421       1.304\n",
              "ar.L4         -0.0137      0.058     -0.237      0.813      -0.127       0.099\n",
              "ma.L1          0.2107      0.678      0.311      0.756      -1.118       1.539\n",
              "ma.L2         -0.4867      0.467     -1.042      0.297      -1.402       0.429\n",
              "ma.L3         -0.6906      0.687     -1.005      0.315      -2.037       0.656\n",
              "ar.S.L12       0.8254      0.058     14.188      0.000       0.711       0.939\n",
              "ar.S.L24       0.1449      0.054      2.701      0.007       0.040       0.250\n",
              "ma.S.L12      -0.7438      0.046    -16.189      0.000      -0.834      -0.654\n",
              "sigma2         0.2696      0.016     17.080      0.000       0.239       0.301\n",
              "===================================================================================\n",
              "Ljung-Box (Q):                       58.26   Jarque-Bera (JB):                 2.07\n",
              "Prob(Q):                              0.03   Prob(JB):                         0.36\n",
              "Heteroskedasticity (H):               1.18   Skew:                            -0.08\n",
              "Prob(H) (two-sided):                  0.22   Kurtosis:                         3.22\n",
              "===================================================================================\n",
              "\n",
              "Warnings:\n",
              "[1] Covariance matrix calculated using the outer product of gradients (complex-step).\n",
              "\"\"\""
            ]
          },
          "metadata": {
            "tags": []
          },
          "execution_count": 29
        }
      ]
    },
    {
      "cell_type": "code",
      "metadata": {
        "id": "o6KhG8F9QI5K",
        "outputId": "3606b843-8cda-4a1d-91c3-3a57ee92cf45",
        "colab": {
          "base_uri": "https://localhost:8080/"
        }
      },
      "source": [
        "next_12 = modelo_auto.predict(n_periods = 12)\n",
        "# Visualização dos próximos 12 valores\n",
        "next_12 "
      ],
      "execution_count": 30,
      "outputs": [
        {
          "output_type": "execute_result",
          "data": {
            "text/plain": [
              "array([25.24727938, 26.09560721, 25.80284294, 25.7981739 , 25.87441578,\n",
              "       26.04118025, 26.13357747, 25.47744462, 24.58510512, 23.73560211,\n",
              "       23.29788116, 23.95205858])"
            ]
          },
          "metadata": {
            "tags": []
          },
          "execution_count": 30
        }
      ]
    },
    {
      "cell_type": "code",
      "metadata": {
        "id": "T2cqqaV_T_K2"
      },
      "source": [
        ""
      ],
      "execution_count": 30,
      "outputs": []
    }
  ]
}